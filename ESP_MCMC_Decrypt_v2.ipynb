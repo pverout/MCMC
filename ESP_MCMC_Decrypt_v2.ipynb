{
  "nbformat": 4,
  "nbformat_minor": 0,
  "metadata": {
    "colab": {
      "provenance": []
    },
    "kernelspec": {
      "name": "python3",
      "display_name": "Python 3"
    }
  },
  "cells": [
    {
      "cell_type": "markdown",
      "metadata": {
        "id": "n-HeFHeEwsTN"
      },
      "source": [
        "Implement decryption algorithm outlined in Persi Diaconis: \"The Markov Chain Monte Carlo Revolution\""
      ]
    },
    {
      "cell_type": "markdown",
      "metadata": {
        "id": "tqtR1F0IvGtH"
      },
      "source": [
        "v2:\n",
        "\n",
        "*  Fixed mistake in `plausibility`: initial value of `logprod` should have been 0 not 1\n",
        "\n",
        "* added graphs that show how the plausibility function changes as the chain is run\n",
        "\n",
        "* added using letter frequencies to construct initial key"
      ]
    },
    {
      "cell_type": "code",
      "metadata": {
        "id": "pdpjPxvEwmyN"
      },
      "source": [
        "import numpy as np\n",
        "from numpy.random import default_rng\n",
        "rng = default_rng()\n",
        "import matplotlib.pyplot as plt"
      ],
      "execution_count": null,
      "outputs": []
    },
    {
      "cell_type": "markdown",
      "metadata": {
        "id": "IFtjGyFIx9_u"
      },
      "source": [
        "### Character coding and decoding"
      ]
    },
    {
      "cell_type": "markdown",
      "metadata": {
        "id": "w_Z-w8BUyF4F"
      },
      "source": [
        "Convention: 1=A, ..., 26 = Z, 0=everything else.  Use capital letters only."
      ]
    },
    {
      "cell_type": "code",
      "metadata": {
        "id": "6ZshqDdlyGQJ"
      },
      "source": [
        "def my_char_to_number(c):\n",
        "  ordc = ord(c.upper())\n",
        "  if (ordc <= ord(\"Z\")) and (ordc >= ord(\"A\")):\n",
        "    return ordc - ord(\"A\") + 1\n",
        "  else:\n",
        "    return 0\n",
        "\n",
        "def my_string_to_numbers(s):\n",
        "  return [my_char_to_number(c) for c in s]"
      ],
      "execution_count": null,
      "outputs": []
    },
    {
      "cell_type": "code",
      "metadata": {
        "id": "QNAHz-VyzNZV"
      },
      "source": [
        "def my_number_to_char(n):\n",
        "  if n == 0:\n",
        "    return \" \"\n",
        "  else:\n",
        "    return chr(n - 1 + ord(\"A\"))\n",
        "\n",
        "def my_numbers_to_string(n_array):\n",
        "  return \"\".join(my_number_to_char(n) for n in n_array)"
      ],
      "execution_count": null,
      "outputs": []
    },
    {
      "cell_type": "code",
      "metadata": {
        "colab": {
          "base_uri": "https://localhost:8080/"
        },
        "id": "n7dMTLFgzXuo",
        "outputId": "5763a543-6d37-4ce6-e3e7-48f898404ae3"
      },
      "source": [
        "test_string = \"Testing    with,some   '?/extra...'characters\"\n",
        "test_numbers = my_string_to_numbers(test_string)\n",
        "print(test_numbers)"
      ],
      "execution_count": null,
      "outputs": [
        {
          "output_type": "stream",
          "text": [
            "[20, 5, 19, 20, 9, 14, 7, 0, 0, 0, 0, 23, 9, 20, 8, 0, 19, 15, 13, 5, 0, 0, 0, 0, 0, 0, 5, 24, 20, 18, 1, 0, 0, 0, 0, 3, 8, 1, 18, 1, 3, 20, 5, 18, 19]\n"
          ],
          "name": "stdout"
        }
      ]
    },
    {
      "cell_type": "code",
      "metadata": {
        "colab": {
          "base_uri": "https://localhost:8080/"
        },
        "id": "VrS33u5Qz7zu",
        "outputId": "07b2f883-a996-4fc5-e6f3-9552a5541f4e"
      },
      "source": [
        "print(my_numbers_to_string(test_numbers))"
      ],
      "execution_count": null,
      "outputs": [
        {
          "output_type": "stream",
          "text": [
            "TESTING    WITH SOME      EXTRA    CHARACTERS\n"
          ],
          "name": "stdout"
        }
      ]
    },
    {
      "cell_type": "markdown",
      "metadata": {
        "id": "uE9Tj946xc-W"
      },
      "source": [
        "### Construct matrix of first-order transitions"
      ]
    },
    {
      "cell_type": "markdown",
      "metadata": {
        "id": "-h3v0bMZxhej"
      },
      "source": [
        "Sherlock Holmes downloaded from Project Gutenberg, http://www.gutenberg.org/ebooks/1661"
      ]
    },
    {
      "cell_type": "code",
      "metadata": {
        "colab": {
          "base_uri": "https://localhost:8080/"
        },
        "id": "d5K9DTGKxga6",
        "outputId": "8cb2f23f-063e-406a-d240-edd8d753ddb4"
      },
      "source": [
        "import urllib.request\n",
        "from urllib.request import urlretrieve\n",
        "\n",
        "urlretrieve(\"http://gauss.vaniercollege.qc.ca/~stahn/HTK/ESP/MCMC/holmes.txt\", \"holmes.txt\")\n",
        "urlretrieve(\"http://gauss.vaniercollege.qc.ca/~stahn/HTK/ESP/MCMC/mini_holmes.txt\", \"mini_holmes.txt\")"
      ],
      "execution_count": null,
      "outputs": [
        {
          "output_type": "execute_result",
          "data": {
            "text/plain": [
              "('mini_holmes.txt', <http.client.HTTPMessage at 0x7fa737b0f2d0>)"
            ]
          },
          "metadata": {
            "tags": []
          },
          "execution_count": 55
        }
      ]
    },
    {
      "cell_type": "code",
      "metadata": {
        "colab": {
          "base_uri": "https://localhost:8080/"
        },
        "id": "Tqe6cTelxy9n",
        "outputId": "a6eabd29-3092-4635-fd5e-168ef8fac040"
      },
      "source": [
        "with open(\"mini_holmes.txt\") as fileobj:\n",
        "    for line in fileobj:\n",
        "       for ch in line:\n",
        "           print(ch, end='')"
      ],
      "execution_count": null,
      "outputs": [
        {
          "output_type": "stream",
          "text": [
            "﻿To Sherlock Holmes she is always _the_ woman. I have seldom heard\n",
            "him mention her under any other name. In his eyes she eclipses and\n"
          ],
          "name": "stdout"
        }
      ]
    },
    {
      "cell_type": "code",
      "metadata": {
        "id": "aVG3Wuq4ya7W"
      },
      "source": [
        "# count transitions FROM ROW TO COLUMN\n",
        "# treat repeated spaces / non-letter characters as one\n",
        "\n",
        "count_transitions = np.zeros((27, 27))\n",
        "count_total = 0\n",
        "\n",
        "old_symbol = 0\n",
        "# with open(\"mini_holmes.txt\") as fileobj:\n",
        "with open(\"holmes.txt\") as fileobj:\n",
        "  for line in fileobj:\n",
        "    for ch in line:\n",
        "      new_symbol = my_char_to_number(ch)\n",
        "      if old_symbol == 0 and new_symbol == 0:\n",
        "        pass\n",
        "      else:\n",
        "#        print(my_number_to_char(new_symbol), end='')\n",
        "        count_transitions[old_symbol, new_symbol] += 1\n",
        "        count_total += 1\n",
        "        old_symbol = new_symbol"
      ],
      "execution_count": null,
      "outputs": []
    },
    {
      "cell_type": "code",
      "metadata": {
        "colab": {
          "base_uri": "https://localhost:8080/"
        },
        "id": "2-EzmQbeihie",
        "outputId": "0b9bf5f0-7913-499e-cbc9-2202c94fd647"
      },
      "source": [
        "row_sums = np.sum(count_transitions, axis=1)\n",
        "M_transitions = (count_transitions.T * (1/row_sums) ).T\n",
        "print(np.sum(M_transitions, axis=1))"
      ],
      "execution_count": null,
      "outputs": [
        {
          "output_type": "stream",
          "text": [
            "[1. 1. 1. 1. 1. 1. 1. 1. 1. 1. 1. 1. 1. 1. 1. 1. 1. 1. 1. 1. 1. 1. 1. 1.\n",
            " 1. 1. 1.]\n"
          ],
          "name": "stdout"
        }
      ]
    },
    {
      "cell_type": "markdown",
      "metadata": {
        "id": "lajnVctZJmPG"
      },
      "source": [
        "#### just for fun: run a Markov chain with $M$ as transition matrix"
      ]
    },
    {
      "cell_type": "code",
      "metadata": {
        "id": "G3SW6ltjJpn8"
      },
      "source": [
        "def random_weighted(weights):\n",
        "    \"\"\"random_weighted([p0, p1, ...]) returns 0 with probability p0, etc.\"\"\"\n",
        "    r = rng.random()\n",
        "    p = 0     ## cumulative sum of the p_i\n",
        "    for i in range(len(weights)):\n",
        "        p += weights[i]\n",
        "        if r < p:\n",
        "            return i\n",
        "    return len(weights)"
      ],
      "execution_count": null,
      "outputs": []
    },
    {
      "cell_type": "code",
      "metadata": {
        "colab": {
          "base_uri": "https://localhost:8080/"
        },
        "id": "QWo3OzJtJphk",
        "outputId": "db77626b-3c81-436d-c800-32e74b078980"
      },
      "source": [
        "state = 0\n",
        "n_steps = 200\n",
        "for step in range(n_steps):\n",
        "  state = random_weighted(M_transitions[state, :])\n",
        "  print(my_number_to_char(state), end='')"
      ],
      "execution_count": null,
      "outputs": [
        {
          "output_type": "stream",
          "text": [
            "AYOND INDE ACO UBE CE WOUSTHOWER ONEND WERE LOFIN H FRTON OUROUSUPASERE S TONLTHAD E IND HE MY S HIGHOULATWE LL T THESME BENE I M OOSTHAY ACH T IL S ED ATHACK STO HTHE K T MASHANDISE TO MER ANGOUR ITO"
          ],
          "name": "stdout"
        }
      ]
    },
    {
      "cell_type": "markdown",
      "metadata": {
        "id": "vz1va7P62syO"
      },
      "source": [
        "### Substitution cipher"
      ]
    },
    {
      "cell_type": "markdown",
      "metadata": {
        "id": "NGdMzVlrwBrU"
      },
      "source": [
        "https://stackoverflow.com/questions/9185768/inverting-permutations-in-python"
      ]
    },
    {
      "cell_type": "code",
      "metadata": {
        "id": "bj8tnfkd3CRv"
      },
      "source": [
        "def encode(key, msg_numbers):\n",
        "  return [key[i] for i in msg_numbers]"
      ],
      "execution_count": null,
      "outputs": []
    },
    {
      "cell_type": "code",
      "metadata": {
        "id": "uGrdTlzdwAbQ"
      },
      "source": [
        "def invert_permutation(permutation):\n",
        "    inv = np.empty_like(permutation)\n",
        "    inv[permutation] = np.arange(len(inv), dtype=inv.dtype)\n",
        "    return inv"
      ],
      "execution_count": null,
      "outputs": []
    },
    {
      "cell_type": "code",
      "metadata": {
        "id": "8StB-uMB20J4"
      },
      "source": [
        "clear_text = (\"ENTER HAMLET HAM TO BE OR NOT TO BE THAT IS THE QUESTION WHETHER TIS\"+\n",
        "              \"NOBLER IN THE MIND TO SUFFER THE SLINGS AND ARROWS OF OUTRAGEOUS \" +\n",
        "              \"FORTUNE OR TO TAKE ARMS AGAINST A SEA OF TROUBLES AND BY OPPOSING END\")\n",
        "\n",
        "clear_num = my_string_to_numbers(clear_text)\n",
        "\n",
        "key = [0, 2, 3, 1, 4, 5, 6, 7, 8, 9, 10, 11, 12 ,13, 14, 15, 16, 17, 18, 19, 20, 21, 22, 23, 24, 26, 25]"
      ],
      "execution_count": null,
      "outputs": []
    },
    {
      "cell_type": "code",
      "metadata": {
        "colab": {
          "base_uri": "https://localhost:8080/"
        },
        "id": "5cTeTCWJ0k0B",
        "outputId": "4b29f62d-b209-4f0a-9b26-8511b7daf207"
      },
      "source": [
        "print(\"THEM TO DIE TO SLEEP NO MORE AND BY A SLEEP TO SAY WE END\"+\n",
        "  \"THE HEART ACHE AND THE THOUSAND NATURAL SHOCKS\"+\n",
        "  \"THAT FLESH IS HEIR TO TIS A CONSUMMATION\"+\n",
        "  \"DEVOUTLY TO BE WISH TO DIE TO SLEEP\"+\n",
        "  \"TO SLEEP PERCHANCE TO DREAMAY THERES THE RUB\"+\n",
        "  \"FOR IN THAT SLEEP OF DEATH WHAT DREAMS MAY COME\"+\n",
        "  \"WHEN WE HAVE SHUFFLED OFF THIS MORTAL COIL\")"
      ],
      "execution_count": null,
      "outputs": [
        {
          "output_type": "stream",
          "text": [
            "THEM TO DIE TO SLEEP NO MORE AND BY A SLEEP TO SAY WE ENDTHE HEART ACHE AND THE THOUSAND NATURAL SHOCKSTHAT FLESH IS HEIR TO TIS A CONSUMMATIONDEVOUTLY TO BE WISH TO DIE TO SLEEPTO SLEEP PERCHANCE TO DREAMAY THERES THE RUBFOR IN THAT SLEEP OF DEATH WHAT DREAMS MAY COMEWHEN WE HAVE SHUFFLED OFF THIS MORTAL COIL\n"
          ],
          "name": "stdout"
        }
      ]
    },
    {
      "cell_type": "code",
      "metadata": {
        "colab": {
          "base_uri": "https://localhost:8080/"
        },
        "id": "ZFkB1UhjrI-z",
        "outputId": "9eba69a6-f18a-4276-e2f1-af15a1d34561"
      },
      "source": [
        "len(clear_text)"
      ],
      "execution_count": null,
      "outputs": [
        {
          "output_type": "execute_result",
          "data": {
            "text/plain": [
              "202"
            ]
          },
          "metadata": {
            "tags": []
          },
          "execution_count": 65
        }
      ]
    },
    {
      "cell_type": "code",
      "metadata": {
        "colab": {
          "base_uri": "https://localhost:8080/",
          "height": 52
        },
        "id": "PNQUBl7p2-VG",
        "outputId": "9efa34d7-e043-4bcf-b236-50678ae96b09"
      },
      "source": [
        "encoded_num = encode(key, clear_num)\n",
        "my_numbers_to_string(encoded_num)"
      ],
      "execution_count": null,
      "outputs": [
        {
          "output_type": "execute_result",
          "data": {
            "application/vnd.google.colaboratory.intrinsic+json": {
              "type": "string"
            },
            "text/plain": [
              "'ENTER HBMLET HBM TO CE OR NOT TO CE THBT IS THE QUESTION WHETHER TISNOCLER IN THE MIND TO SUFFER THE SLINGS BND BRROWS OF OUTRBGEOUS FORTUNE OR TO TBKE BRMS BGBINST B SEB OF TROUCLES BND CZ OPPOSING END'"
            ]
          },
          "metadata": {
            "tags": []
          },
          "execution_count": 66
        }
      ]
    },
    {
      "cell_type": "code",
      "metadata": {
        "colab": {
          "base_uri": "https://localhost:8080/"
        },
        "id": "t2rVGgbU3PvV",
        "outputId": "2ec1ad36-b271-4f56-d5f8-ac6bf0f5761c"
      },
      "source": [
        "invkey = invert_permutation(key)\n",
        "invkey"
      ],
      "execution_count": null,
      "outputs": [
        {
          "output_type": "execute_result",
          "data": {
            "text/plain": [
              "array([ 0,  3,  1,  2,  4,  5,  6,  7,  8,  9, 10, 11, 12, 13, 14, 15, 16,\n",
              "       17, 18, 19, 20, 21, 22, 23, 24, 26, 25])"
            ]
          },
          "metadata": {
            "tags": []
          },
          "execution_count": 67
        }
      ]
    },
    {
      "cell_type": "code",
      "metadata": {
        "colab": {
          "base_uri": "https://localhost:8080/",
          "height": 52
        },
        "id": "1OpehjBc3Frs",
        "outputId": "989dbe4a-d514-4c91-f056-e28cbc2b12dc"
      },
      "source": [
        "decoded_num = encode(invkey, encoded_num)\n",
        "my_numbers_to_string(decoded_num)"
      ],
      "execution_count": null,
      "outputs": [
        {
          "output_type": "execute_result",
          "data": {
            "application/vnd.google.colaboratory.intrinsic+json": {
              "type": "string"
            },
            "text/plain": [
              "'ENTER HAMLET HAM TO BE OR NOT TO BE THAT IS THE QUESTION WHETHER TISNOBLER IN THE MIND TO SUFFER THE SLINGS AND ARROWS OF OUTRAGEOUS FORTUNE OR TO TAKE ARMS AGAINST A SEA OF TROUBLES AND BY OPPOSING END'"
            ]
          },
          "metadata": {
            "tags": []
          },
          "execution_count": 68
        }
      ]
    },
    {
      "cell_type": "markdown",
      "metadata": {
        "id": "QlqNbcO_4qeZ"
      },
      "source": [
        "### Plausibility function"
      ]
    },
    {
      "cell_type": "code",
      "metadata": {
        "id": "_MCJ3M9D52hR"
      },
      "source": [
        "def plausibility(key, encoded_num):\n",
        "  logprod = 0\n",
        "  decoded = encode(key, encoded_num)\n",
        "  for current, next in zip(decoded, decoded[1:]):\n",
        "    M = M_transitions[current][next]\n",
        "    if M < 1e-10:                ### fudge factor\n",
        "      M = 1e-10\n",
        "    logprod = logprod + np.log(M)\n",
        "  return logprod"
      ],
      "execution_count": null,
      "outputs": []
    },
    {
      "cell_type": "markdown",
      "metadata": {
        "id": "SKsXrOen7IhX"
      },
      "source": [
        "Compare plausibility of randomly generated key against the correct unlocking key"
      ]
    },
    {
      "cell_type": "code",
      "metadata": {
        "colab": {
          "base_uri": "https://localhost:8080/",
          "height": 52
        },
        "id": "E7ky4C-q6tUB",
        "outputId": "c5539bd2-9a4f-4d6f-d295-523a69af4ad5"
      },
      "source": [
        "the_key = [4, 19, 0, 16, 26, 14, 12, 10, 17, 20, 3, 23, 24, 13, 25, 15, 11, 21, 2, 5, 8, 6, 22, 7, 18, 1, 9]\n",
        "the_encoded_num = encode(the_key, clear_num)\n",
        "my_numbers_to_string(the_encoded_num)"
      ],
      "execution_count": null,
      "outputs": [
        {
          "output_type": "execute_result",
          "data": {
            "application/vnd.google.colaboratory.intrinsic+json": {
              "type": "string"
            },
            "text/plain": [
              "'NYHNBDQSMXNHDQSMDHOD NDOBDYOHDHOD NDHQSHDTEDHQNDUFNEHTOYDGQNHQNBDHTEYO XNBDTYDHQNDMTYZDHODEFLLNBDHQNDEXTYJEDSYZDSBBOGEDOLDOFHBSJNOFEDLOBHFYNDOBDHODHSWNDSBMEDSJSTYEHDSDENSDOLDHBOF XNEDSYZD ADOKKOETYJDNYZ'"
            ]
          },
          "metadata": {
            "tags": []
          },
          "execution_count": 70
        }
      ]
    },
    {
      "cell_type": "code",
      "metadata": {
        "colab": {
          "base_uri": "https://localhost:8080/",
          "height": 52
        },
        "id": "-xk0M6b19kkb",
        "outputId": "18554bc7-ce95-4a95-99bd-87a7aee34984"
      },
      "source": [
        "the_inv_key = invert_permutation(the_key)\n",
        "the_decoded_num = encode(the_inv_key, the_encoded_num)\n",
        "my_numbers_to_string(the_decoded_num)"
      ],
      "execution_count": null,
      "outputs": [
        {
          "output_type": "execute_result",
          "data": {
            "application/vnd.google.colaboratory.intrinsic+json": {
              "type": "string"
            },
            "text/plain": [
              "'ENTER HAMLET HAM TO BE OR NOT TO BE THAT IS THE QUESTION WHETHER TISNOBLER IN THE MIND TO SUFFER THE SLINGS AND ARROWS OF OUTRAGEOUS FORTUNE OR TO TAKE ARMS AGAINST A SEA OF TROUBLES AND BY OPPOSING END'"
            ]
          },
          "metadata": {
            "tags": []
          },
          "execution_count": 71
        }
      ]
    },
    {
      "cell_type": "code",
      "metadata": {
        "colab": {
          "base_uri": "https://localhost:8080/"
        },
        "id": "JS6Lik80652S",
        "outputId": "01123c1a-4ae8-44af-c7df-0f7c8cb9654a"
      },
      "source": [
        "plausibility(the_inv_key, the_encoded_num)"
      ],
      "execution_count": null,
      "outputs": [
        {
          "output_type": "execute_result",
          "data": {
            "text/plain": [
              "-463.0708182789339"
            ]
          },
          "metadata": {
            "tags": []
          },
          "execution_count": 72
        }
      ]
    },
    {
      "cell_type": "code",
      "metadata": {
        "colab": {
          "base_uri": "https://localhost:8080/"
        },
        "id": "2Wejg82K7ga-",
        "outputId": "4af326b4-2f9f-41fd-c5c3-6ade00f37c88"
      },
      "source": [
        "some_random_key = [4, 19, 0, 16, 26, 14, 12, 10, 17, 20, 3, 23, 24, 13, 25, 15, 11, 21, 2, 5, 8, 6, 22, 7, 18, 1, 9]\n",
        "plausibility(some_random_key, the_encoded_num)"
      ],
      "execution_count": null,
      "outputs": [
        {
          "output_type": "execute_result",
          "data": {
            "text/plain": [
              "-2014.1984936390784"
            ]
          },
          "metadata": {
            "tags": []
          },
          "execution_count": 73
        }
      ]
    },
    {
      "cell_type": "markdown",
      "metadata": {
        "id": "YwATZwFAtZXJ"
      },
      "source": [
        "Quick check on plausibility function"
      ]
    },
    {
      "cell_type": "code",
      "metadata": {
        "colab": {
          "base_uri": "https://localhost:8080/"
        },
        "id": "_YR-9Rnbtdj5",
        "outputId": "21827c1d-6245-4634-e76c-ccdfe3842370"
      },
      "source": [
        "trivial_key = list(range(27))\n",
        "print(trivial_key)"
      ],
      "execution_count": null,
      "outputs": [
        {
          "output_type": "stream",
          "text": [
            "[0, 1, 2, 3, 4, 5, 6, 7, 8, 9, 10, 11, 12, 13, 14, 15, 16, 17, 18, 19, 20, 21, 22, 23, 24, 25, 26]\n"
          ],
          "name": "stdout"
        }
      ]
    },
    {
      "cell_type": "code",
      "metadata": {
        "colab": {
          "base_uri": "https://localhost:8080/"
        },
        "id": "jFiLW-8GtiiF",
        "outputId": "d8e0ee4c-0a13-438a-a507-8f8166bfaf54"
      },
      "source": [
        "dog_num = my_string_to_numbers(\"DOG\")\n",
        "print(dog_num)"
      ],
      "execution_count": null,
      "outputs": [
        {
          "output_type": "stream",
          "text": [
            "[4, 15, 7]\n"
          ],
          "name": "stdout"
        }
      ]
    },
    {
      "cell_type": "code",
      "metadata": {
        "colab": {
          "base_uri": "https://localhost:8080/"
        },
        "id": "gBkrPFtPtqTI",
        "outputId": "eb815f31-f743-46a7-ca47-e0bab9271318"
      },
      "source": [
        "M_transitions[4][15]*M_transitions[15][7]"
      ],
      "execution_count": null,
      "outputs": [
        {
          "output_type": "execute_result",
          "data": {
            "text/plain": [
              "0.0002647651369369166"
            ]
          },
          "metadata": {
            "tags": []
          },
          "execution_count": 76
        }
      ]
    },
    {
      "cell_type": "code",
      "metadata": {
        "colab": {
          "base_uri": "https://localhost:8080/"
        },
        "id": "htw0u3j7tzQF",
        "outputId": "7c0ac418-ffe7-4d48-f18c-aa2d8cfb094b"
      },
      "source": [
        "np.exp(plausibility(trivial_key, dog_num))"
      ],
      "execution_count": null,
      "outputs": [
        {
          "output_type": "execute_result",
          "data": {
            "text/plain": [
              "0.00026476513693691664"
            ]
          },
          "metadata": {
            "tags": []
          },
          "execution_count": 77
        }
      ]
    },
    {
      "cell_type": "markdown",
      "metadata": {
        "id": "jDy7qNbF-DVF"
      },
      "source": [
        "### The MCMC"
      ]
    },
    {
      "cell_type": "code",
      "metadata": {
        "colab": {
          "base_uri": "https://localhost:8080/"
        },
        "id": "6w6R5PFJ94NE",
        "outputId": "e179c582-2900-4d6a-e7e1-db1637c34972"
      },
      "source": [
        "# start with a trivial key: no decoding at all\n",
        "trial_key = list(range(27))\n",
        "old_pl = plausibility(trial_key, the_encoded_num)\n",
        "best_key = trial_key\n",
        "best_pl = old_pl\n",
        "\n",
        "for r in range(20000):\n",
        "  # generate a random transposition of two symbol assignments\n",
        "  switch = rng.choice(27, 2, replace=False)\n",
        "  new_key = trial_key.copy()\n",
        "  new_key[switch[0]] = trial_key[switch[1]]\n",
        "  new_key[switch[1]] = trial_key[switch[0]]\n",
        "\n",
        "  new_pl = plausibility(new_key, the_encoded_num)\n",
        "  # print(\"old p: {:.2f}   new p: {:.2f}\".format(old_p, new_p))\n",
        "  switch_keys = False\n",
        "  if new_pl > old_pl:\n",
        "    switch_keys = True\n",
        "  else:\n",
        "    alpha = np.exp(new_pl - old_pl)\n",
        "    if rng.random() < alpha:\n",
        "      switch_keys = True\n",
        "\n",
        "  if switch_keys:\n",
        "    trial_key = new_key.copy()\n",
        "    if new_pl > best_pl:\n",
        "      best_pl = new_pl\n",
        "      best_key = new_key.copy()\n",
        "    old_pl = new_pl\n",
        "    print('/', end='')\n",
        "  else:\n",
        "    print('.', end='')\n",
        "\n",
        "  # every 100 steps: report the current state of affairs\n",
        "  if r % 100 == 0:\n",
        "    print(\"\")\n",
        "    print(\"r = {:>6}: Pl = {:5.2f}\".format(r, old_pl))\n",
        "    print(my_numbers_to_string(encode(trial_key, the_encoded_num)))"
      ],
      "execution_count": null,
      "outputs": [
        {
          "output_type": "stream",
          "text": [
            ".\n",
            "r =      0: Pl = -1585.24\n",
            "NYHNBDQSMXNHDQSMDHOD NDOBDYOHDHOD NDHQSHDTEDHQNDUFNEHTOYDGQNHQNBDHTEYO XNBDTYDHQNDMTYZDHODEFLLNBDHQNDEXTYJEDSYZDSBBOGEDOLDOFHBSJNOFEDLOBHFYNDOBDHODHSWNDSBMEDSJSTYEHDSDENSDOLDHBOF XNEDSYZD ADOKKOETYJDNYZ\n",
            "///..//.//./...////../................./....../../.......//............//.......././......../..././.\n",
            "r =    100: Pl = -768.31\n",
            "A SAMNGOLWASNGOLNSENHANEMN ESNSENHANSGOSNFRNSGANXTARSFE NKGASGAMNSFR EHWAMNF NSGANLF INSENRTDDAMNSGANRWF URNO INOMMEKRNEDNETSMOUAETRNDEMST ANEMNSENSOYANOMLRNOUOF RSNONRAONEDNSMETHWARNO INHBNEZZERF UNA I\n",
            "..././..../.../..../............................../......./....../...../........../..........//.....\n",
            "r =    200: Pl = -688.89\n",
            "O IODLMANHOILMANLIELWOLEDL EILIELWOLIMAILTRLIMOLYFORITE LKMOIMODLITR EWHODLT LIMOLNT GLIELRFSSODLIMOLRHT BRLA GLADDEKRLESLEFIDABOEFRLSEDIF OLEDLIELIAXOLADNRLABAT RILALROALESLIDEFWHORLA GLWULEPPERT BLO G\n",
            ".././......./.../................../....................././.../...../..........................///.\n",
            "r =    300: Pl = -635.61\n",
            "ERIETLMANHEILMANLIOLWELOTLROILIOLWELIMAILD LIMELYSE IDORLKMEIMETLID ROWHETLDRLIMELNDRGLIOL SPPETLIMEL HDRU LARGLATTOK LOPLOSITAUEOS LPOTISRELOTLIOLIAJELATN LAUADR ILAL EALOPLITOSWHE LARGLWCLOFFO DRULERG\n",
            "...../../................//............................................................../..........\n",
            "r =    400: Pl = -631.90\n",
            "ERIETLMANHEILMANLIOLWELOTLROILIOLWELIMAILD LIMELYSE IDORLKMEIMETLID ROWHETLDRLIMELNDRGLIOL SPPETLIMEL HDRU LARGLATTOK LOPLOSITAUEOS LPOTISRELOTLIOLIABELATN LAUADR ILAL EALOPLITOSWHE LARGLWCLOFFO DRULERG\n",
            "......../............................/.............././................./.........../...............\n",
            "r =    500: Pl = -613.72\n",
            "ERIENLMASHEILMASLIOLWELONLROILIOLWELIMAILD LIMELYTE IDORLKMEIMENLID ROWHENLDRLIMELSDRULIOL TPPENLIMEL HDRG LARULANNOK LOPLOTINAGEOT LPONITRELONLIOLIABELANS LAGADR ILAL EALOPLINOTWHE LARULWCLOFFO DRGLERU\n",
            "................../........................../....//................................/...............\n",
            "r =    600: Pl = -578.24\n",
            "ERIEN MASHEI MAS IO WE ON ROI IO WE IMAI DL IME YTELIDOR GMEIMEN IDLROWHEN DR IME SDRU IO LTPPEN IME LHDRKL ARU ANNOGL OP OTINAKEOTL PONITRE ON IO IAVE ANSL AKADRLI A LEA OP INOTWHEL ARU WC OFFOLDRK ERU\n",
            "/....................../....../............./...../........./....../......................//........\n",
            "r =    700: Pl = -573.01\n",
            "ERIEN MASHEI MAS IO WE ON ROI IO WE IMAI DT IME YLETIDOR BMEIMEN IDTROWHEN DR IME SDRK IO TLPPEN IME THDRUT ARK ANNOBT OP OLINAUEOLT PONILRE ON IO IAVE ANST AUADRTI A TEA OP INOLWHET ARK WC OFFOTDRU ERK\n",
            "......//..../....................................../...../......................................../.\n",
            "r =    800: Pl = -535.33\n",
            "ERIEN MASHEI MAS IO WE ON ROI IO WE IMAI UT IME CLETIUOR BMEIMEN IUTROWHEN UR IME SURK IO TLFFEN IME THURDT ARK ANNOBT OF OLINADEOLT FONILRE ON IO IAVE ANST ADAURTI A TEA OF INOLWHET ARK WY OPPOTURD ERK\n",
            "............................../.....................................................................\n",
            "r =    900: Pl = -536.69\n",
            "ERIEN MASHEI MAS IO WE ON ROI IO WE IMAI UT IME GLETIUOR BMEIMEN IUTROWHEN UR IME SURK IO TLFFEN IME THURDT ARK ANNOBT OF OLINADEOLT FONILRE ON IO IAVE ANST ADAURTI A TEA OF INOLWHET ARK WY OPPOTURD ERK\n",
            ".........../.................../................./............................................./../.\n",
            "r =   1000: Pl = -536.92\n",
            "ERIED MASHEI MAS IO WE OD ROI IO WE IMAI UT IME GLETIUOR BMEIMED IUTROWHED UR IME SURK IO TLFFED IME THURNT ARK ADDOBT OF OLIDANEOLT FODILRE OD IO IAVE ADST ANAURTI A TEA OF IDOLWHET ARK WY OPPOTURN ERK\n",
            "......./....../.....................................................................................\n",
            "r =   1100: Pl = -536.92\n",
            "ERIED MASHEI MAS IO WE OD ROI IO WE IMAI UT IME GLETIUOR BMEIMED IUTROWHED UR IME SURK IO TLFFED IME THURNT ARK ADDOBT OF OLIDANEOLT FODILRE OD IO IAVE ADST ANAURTI A TEA OF IDOLWHET ARK WY OPPOTURN ERK\n",
            "/../......../.................../......../............................./....../.........//..../.....\n",
            "r =   1200: Pl = -536.69\n",
            "ERIEN MASHEI MAS IO WE ON ROI IO WE IMAI UT IME GLETIUOR BMEIMEN IUTROWHEN UR IME SURK IO TLFFEN IME THURDT ARK ANNOBT OF OLINADEOLT FONILRE ON IO IAVE ANST ADAURTI A TEA OF INOLWHET ARK WY OPPOTURD ERK\n",
            ".../................./.................................../........../...................../.........\n",
            "r =   1300: Pl = -532.37\n",
            "ERIEN MASHEI MAS IO WE ON ROI IO WE IMAI UT IME GLETIUOR BMEIMEN IUTROWHEN UR IME SURD IO TLFFEN IME THURCT ARD ANNOBT OF OLINACEOLT FONILRE ON IO IAVE ANST ACAURTI A TEA OF INOLWHET ARD WK OPPOTURC ERD\n",
            "............................................................../......../............................\n",
            "r =   1400: Pl = -529.55\n",
            "ERIEN MASHEI MAS IO WE ON ROI IO WE IMAI UT IME GLETIUOR BMEIMEN IUTROWHEN UR IME SURY IO TLFFEN IME THURCT ARY ANNOBT OF OLINACEOLT FONILRE ON IO IAVE ANST ACAURTI A TEA OF INOLWHET ARY WD OPPOTURC ERY\n",
            "....................................../.............../...../................................./.....\n",
            "r =   1500: Pl = -531.52\n",
            "ERIEN MASHEI MAS IO WE ON ROI IO WE IMAI UT IME GLETIUOR BMEIMEN IUTROWHEN UR IME SURY IO TLFFEN IME THURCT ARY ANNOBT OF OLINACEOLT FONILRE ON IO IAKE ANST ACAURTI A TEA OF INOLWHET ARY WD OPPOTURC ERY\n",
            "........./......./...../../......................./.................................................\n",
            "r =   1600: Pl = -532.36\n",
            "ERIEN MASHEI MAS IO WE ON ROI IO WE IMAI BT IME GLETIBOR UMEIMEN IBTROWHEN BR IME SBRY IO TLFFEN IME THBRCT ARY ANNOUT OF OLINACEOLT FONILRE ON IO IAKE ANST ACABRTI A TEA OF INOLWHET ARY WD OPPOTBRC ERY\n",
            ".........././...................../.............................................../...../...........\n",
            "r =   1700: Pl = -532.51\n",
            "ERIEN MASHEI MAS IO WE ON ROI IO WE IMAI BT IME CLETIBOR UMEIMEN IBTROWHEN BR IME SBRY IO TLFFEN IME THBRGT ARY ANNOUT OF OLINAGEOLT FONILRE ON IO IAKE ANST AGABRTI A TEA OF INOLWHET ARY WD OPPOTBRG ERY\n",
            "....................../................/............./.................................../........./\n",
            "r =   1800: Pl = -533.87\n",
            "ERIEN MASHEI MAS IO WE ON ROI IO WE IMAI BT IME CLETIBOR UMEIMEN IBTROWHEN BR IME SBRY IO TLFFEN IME THBRDT ARY ANNOUT OF OLINADEOLT FONILRE ON IO IAGE ANST ADABRTI A TEA OF INOLWHET ARY WK OPPOTBRD ERY\n",
            "............../...../...................../............................./...........................\n",
            "r =   1900: Pl = -530.95\n",
            "ELIEN MASHEI MAS IO WE ON LOI IO WE IMAI BT IME CRETIBOL UMEIMEN IBTLOWHEN BL IME SBLY IO TRFFEN IME THBLDT ALY ANNOUT OF ORINADEORT FONIRLE ON IO IAGE ANST ADABLTI A TEA OF INORWHET ALY WK OPPOTBLD ELY\n",
            "............................................................................./......................\n",
            "r =   2000: Pl = -530.95\n",
            "ELIEN MASHEI MAS IO WE ON LOI IO WE IMAI BT IME CRETIBOL UMEIMEN IBTLOWHEN BL IME SBLY IO TRFFEN IME THBLDT ALY ANNOUT OF ORINADEORT FONIRLE ON IO IAGE ANST ADABLTI A TEA OF INORWHET ALY WK OPPOTBLD ELY\n",
            "/....../........../............................................................................./...\n",
            "r =   2100: Pl = -528.14\n",
            "ELIEN MASHEI MAS IO WE ON LOI IO WE IMAI BT IME CRETIBOL UMEIMEN IBTLOWHEN BL IME SBLD IO TRFFEN IME THBLYT ALD ANNOUT OF ORINAYEORT FONIRLE ON IO IAVE ANST AYABLTI A TEA OF INORWHET ALD WK OPPOTBLY ELD\n",
            "......../........................./..................................../............./..............\n",
            "r =   2200: Pl = -528.14\n",
            "ELIEN MASHEI MAS IO WE ON LOI IO WE IMAI BT IME CRETIBOL UMEIMEN IBTLOWHEN BL IME SBLD IO TRFFEN IME THBLYT ALD ANNOUT OF ORINAYEORT FONIRLE ON IO IAVE ANST AYABLTI A TEA OF INORWHET ALD WK OPPOTBLY ELD\n",
            "........./............../........................................................./.................\n",
            "r =   2300: Pl = -531.23\n",
            "ELIEN MASHEI MAS IO WE ON LOI IO WE IMAI BT IME PRETIBOL UMEIMEN IBTLOWHEN BL IME SBLD IO TRFFEN IME THBLYT ALD ANNOUT OF ORINAYEORT FONIRLE ON IO IAVE ANST AYABLTI A TEA OF INORWHET ALD WK OGGOTBLY ELD\n",
            "........../................................................................../......................\n",
            "r =   2400: Pl = -531.23\n",
            "ELIEN MASHEI MAS IO WE ON LOI IO WE IMAI BT IME PRETIBOL UMEIMEN IBTLOWHEN BL IME SBLD IO TRFFEN IME THBLYT ALD ANNOUT OF ORINAYEORT FONIRLE ON IO IAVE ANST AYABLTI A TEA OF INORWHET ALD WK OGGOTBLY ELD\n",
            "............................................./...................................../................\n",
            "r =   2500: Pl = -528.88\n",
            "ELIEN MASHEI MAS IO WE ON LOI IO WE IMAI BT IME GRETIBOL UMEIMEN IBTLOWHEN BL IME SBLD IO TRFFEN IME THBLYT ALD ANNOUT OF ORINAYEORT FONIRLE ON IO IAVE ANST AYABLTI A TEA OF INORWHET ALD WK OPPOTBLY ELD\n",
            "...../...............................././.........../...............................................\n",
            "r =   2600: Pl = -529.05\n",
            "ELIEN MASHEI MAS IO WE ON LOI IO WE IMAI BT IME GRETIBOL UMEIMEN IBTLOWHEN BL IME SBLY IO TRFFEN IME THBLDT ALY ANNOUT OF ORINADEORT FONIRLE ON IO IAVE ANST ADABLTI A TEA OF INORWHET ALY WK OPPOTBLD ELY\n",
            ".............................................../....................../...../.......................\n",
            "r =   2700: Pl = -531.40\n",
            "ELIEN MASHEI MAS IO WE ON LOI IO WE IMAI BT IME PRETIBOL UMEIMEN IBTLOWHEN BL IME SBLY IO TRFFEN IME THBLDT ALY ANNOUT OF ORINADEORT FONIRLE ON IO IAVE ANST ADABLTI A TEA OF INORWHET ALY WK OGGOTBLD ELY\n",
            "............/.................................../../........................../.....................\n",
            "r =   2800: Pl = -531.40\n",
            "ELIEN MASHEI MAS IO WE ON LOI IO WE IMAI BT IME PRETIBOL UMEIMEN IBTLOWHEN BL IME SBLY IO TRFFEN IME THBLDT ALY ANNOUT OF ORINADEORT FONIRLE ON IO IAVE ANST ADABLTI A TEA OF INORWHET ALY WK OGGOTBLD ELY\n",
            "......................../...../.........................../................................./.......\n",
            "r =   2900: Pl = -526.67\n",
            "ELIEN MATHEI MAT IO WE ON LOI IO WE IMAI BS IME GRESIBOL UMEIMEN IBSLOWHEN BL IME TBLY IO SRFFEN IME SHBLDS ALY ANNOUS OF ORINADEORS FONIRLE ON IO IAVE ANTS ADABLSI A SEA OF INORWHES ALY WK OPPOSBLD ELY\n",
            ".............../............/......................./../......................./.................../\n",
            "r =   3000: Pl = -526.67\n",
            "ELIEN MATHEI MAT IO WE ON LOI IO WE IMAI BS IME GRESIBOL UMEIMEN IBSLOWHEN BL IME TBLY IO SRFFEN IME SHBLDS ALY ANNOUS OF ORINADEORS FONIRLE ON IO IAVE ANTS ADABLSI A SEA OF INORWHES ALY WK OPPOSBLD ELY\n",
            "..................................../........................./.........................../.........\n",
            "r =   3100: Pl = -526.67\n",
            "ELIEN MATHEI MAT IO WE ON LOI IO WE IMAI BS IME GRESIBOL UMEIMEN IBSLOWHEN BL IME TBLY IO SRFFEN IME SHBLDS ALY ANNOUS OF ORINADEORS FONIRLE ON IO IAVE ANTS ADABLSI A SEA OF INORWHES ALY WK OPPOSBLD ELY\n",
            ".../.../................................................................././................../.....\n",
            "r =   3200: Pl = -525.94\n",
            "ELIEN MATHEI MAT IO WE ON LOI IO WE IMAI BS IME CRESIBOL UMEIMEN IBSLOWHEN BL IME TBLY IO SRFFEN IME SHBLDS ALY ANNOUS OF ORINADEORS FONIRLE ON IO IAVE ANTS ADABLSI A SEA OF INORWHES ALY WK OPPOSBLD ELY\n",
            "......../..................................................................../......................\n",
            "r =   3300: Pl = -525.94\n",
            "ELIEN MATHEI MAT IO WE ON LOI IO WE IMAI BS IME CRESIBOL UMEIMEN IBSLOWHEN BL IME TBLY IO SRFFEN IME SHBLDS ALY ANNOUS OF ORINADEORS FONIRLE ON IO IAVE ANTS ADABLSI A SEA OF INORWHES ALY WK OPPOSBLD ELY\n",
            ".................................................................../......../.......................\n",
            "r =   3400: Pl = -525.94\n",
            "ELIEN MATHEI MAT IO WE ON LOI IO WE IMAI BS IME CRESIBOL UMEIMEN IBSLOWHEN BL IME TBLY IO SRFFEN IME SHBLDS ALY ANNOUS OF ORINADEORS FONIRLE ON IO IAVE ANTS ADABLSI A SEA OF INORWHES ALY WK OPPOSBLD ELY\n",
            "................................................/......./...........................................\n",
            "r =   3500: Pl = -526.67\n",
            "ELIEN MATHEI MAT IO WE ON LOI IO WE IMAI BS IME GRESIBOL UMEIMEN IBSLOWHEN BL IME TBLY IO SRFFEN IME SHBLDS ALY ANNOUS OF ORINADEORS FONIRLE ON IO IAVE ANTS ADABLSI A SEA OF INORWHES ALY WK OPPOSBLD ELY\n",
            ".........../............................/...........................................................\n",
            "r =   3600: Pl = -526.67\n",
            "ELIEN MATHEI MAT IO WE ON LOI IO WE IMAI BS IME GRESIBOL UMEIMEN IBSLOWHEN BL IME TBLY IO SRFFEN IME SHBLDS ALY ANNOUS OF ORINADEORS FONIRLE ON IO IAVE ANTS ADABLSI A SEA OF INORWHES ALY WK OPPOSBLD ELY\n",
            "................././....../.../....../......................./.../....../...........................\n",
            "r =   3700: Pl = -522.73\n",
            "ELIER MATHEI MAT IO CE OR LOI IO CE IMAI BS IME GNESIBOL UMEIMER IBSLOCHER BL IME TBLY IO SNFFER IME SHBLDS ALY ARROUS OF ONIRADEONS FORINLE OR IO IAVE ARTS ADABLSI A SEA OF IRONCHES ALY CK OPPOSBLD ELY\n",
            "........................................................../......................................./.\n",
            "r =   3800: Pl = -522.73\n",
            "ELIER MATHEI MAT IO CE OR LOI IO CE IMAI BS IME GNESIBOL UMEIMER IBSLOCHER BL IME TBLY IO SNFFER IME SHBLDS ALY ARROUS OF ONIRADEONS FORINLE OR IO IAVE ARTS ADABLSI A SEA OF IRONCHES ALY CK OPPOSBLD ELY\n",
            "................................/..................................../..............................\n",
            "r =   3900: Pl = -522.73\n",
            "ELIER MATHEI MAT IO CE OR LOI IO CE IMAI BS IME GNESIBOL UMEIMER IBSLOCHER BL IME TBLY IO SNFFER IME SHBLDS ALY ARROUS OF ONIRADEONS FORINLE OR IO IAVE ARTS ADABLSI A SEA OF IRONCHES ALY CK OPPOSBLD ELY\n",
            "........................................../............/........................................../.\n",
            "r =   4000: Pl = -519.83\n",
            "ELIER MATHEI MAT IO CE OR LOI IO CE IMAI BS IME WNESIBOL UMEIMER IBSLOCHER BL IME TBLY IO SNFFER IME SHBLDS ALY ARROUS OF ONIRADEONS FORINLE OR IO IAVE ARTS ADABLSI A SEA OF IRONCHES ALY CK OPPOSBLD ELY\n",
            "........./................................../......................./......................../......\n",
            "r =   4100: Pl = -519.83\n",
            "ELIER MATHEI MAT IO CE OR LOI IO CE IMAI BS IME WNESIBOL UMEIMER IBSLOCHER BL IME TBLY IO SNFFER IME SHBLDS ALY ARROUS OF ONIRADEONS FORINLE OR IO IAVE ARTS ADABLSI A SEA OF IRONCHES ALY CK OPPOSBLD ELY\n",
            "....................../...................../................................................../....\n",
            "r =   4200: Pl = -519.83\n",
            "ELIER MATHEI MAT IO CE OR LOI IO CE IMAI BS IME WNESIBOL UMEIMER IBSLOCHER BL IME TBLY IO SNFFER IME SHBLDS ALY ARROUS OF ONIRADEONS FORINLE OR IO IAVE ARTS ADABLSI A SEA OF IRONCHES ALY CK OPPOSBLD ELY\n",
            ".../.../............./.................../.............................................../..........\n",
            "r =   4300: Pl = -519.83\n",
            "ELIER MATHEI MAT IO CE OR LOI IO CE IMAI BS IME WNESIBOL UMEIMER IBSLOCHER BL IME TBLY IO SNFFER IME SHBLDS ALY ARROUS OF ONIRADEONS FORINLE OR IO IAVE ARTS ADABLSI A SEA OF IRONCHES ALY CK OPPOSBLD ELY\n",
            "......../...........................................................................................\n",
            "r =   4400: Pl = -519.83\n",
            "ELIER MATHEI MAT IO CE OR LOI IO CE IMAI BS IME WNESIBOL UMEIMER IBSLOCHER BL IME TBLY IO SNFFER IME SHBLDS ALY ARROUS OF ONIRADEONS FORINLE OR IO IAVE ARTS ADABLSI A SEA OF IRONCHES ALY CK OPPOSBLD ELY\n",
            "............../................................./...................................................\n",
            "r =   4500: Pl = -519.83\n",
            "ELIER MATHEI MAT IO CE OR LOI IO CE IMAI BS IME WNESIBOL UMEIMER IBSLOCHER BL IME TBLY IO SNFFER IME SHBLDS ALY ARROUS OF ONIRADEONS FORINLE OR IO IAVE ARTS ADABLSI A SEA OF IRONCHES ALY CK OPPOSBLD ELY\n",
            "...../..../.............................../................../.............../.............../......\n",
            "r =   4600: Pl = -523.59\n",
            "ELIER MATHEI MAT IO CE OR LOI IO CE IMAI BS IME WNESIBOL UMEIMER IBSLOCHER BL IME TBLD IO SNFFER IME SHBLYS ALD ARROUS OF ONIRAYEONS FORINLE OR IO IAVE ARTS AYABLSI A SEA OF IRONCHES ALD CK OPPOSBLY ELD\n",
            ".................../................../............................................./...............\n",
            "r =   4700: Pl = -523.59\n",
            "ELIER MATHEI MAT IO CE OR LOI IO CE IMAI BS IME WNESIBOL UMEIMER IBSLOCHER BL IME TBLD IO SNFFER IME SHBLYS ALD ARROUS OF ONIRAYEONS FORINLE OR IO IAVE ARTS AYABLSI A SEA OF IRONCHES ALD CK OPPOSBLY ELD\n",
            ".............................../........./.....//.........................................../...../.\n",
            "r =   4800: Pl = -523.59\n",
            "ELIER MATHEI MAT IO CE OR LOI IO CE IMAI BS IME WNESIBOL UMEIMER IBSLOCHER BL IME TBLD IO SNFFER IME SHBLYS ALD ARROUS OF ONIRAYEONS FORINLE OR IO IAVE ARTS AYABLSI A SEA OF IRONCHES ALD CK OPPOSBLY ELD\n",
            "...../..............................................................................................\n",
            "r =   4900: Pl = -523.59\n",
            "ELIER MATHEI MAT IO CE OR LOI IO CE IMAI BS IME WNESIBOL UMEIMER IBSLOCHER BL IME TBLD IO SNFFER IME SHBLYS ALD ARROUS OF ONIRAYEONS FORINLE OR IO IAVE ARTS AYABLSI A SEA OF IRONCHES ALD CK OPPOSBLY ELD\n",
            ".............../............................................../............../..../........../......\n",
            "r =   5000: Pl = -523.59\n",
            "ELIER MATHEI MAT IO CE OR LOI IO CE IMAI BS IME WNESIBOL UMEIMER IBSLOCHER BL IME TBLD IO SNFFER IME SHBLYS ALD ARROUS OF ONIRAYEONS FORINLE OR IO IAVE ARTS AYABLSI A SEA OF IRONCHES ALD CK OPPOSBLY ELD\n",
            "......../...........................................................................................\n",
            "r =   5100: Pl = -523.59\n",
            "ELIER MATHEI MAT IO CE OR LOI IO CE IMAI BS IME WNESIBOL UMEIMER IBSLOCHER BL IME TBLD IO SNFFER IME SHBLYS ALD ARROUS OF ONIRAYEONS FORINLE OR IO IAVE ARTS AYABLSI A SEA OF IRONCHES ALD CK OPPOSBLY ELD\n",
            "................................./...................../..................././......................\n",
            "r =   5200: Pl = -523.59\n",
            "ELIER MATHEI MAT IO CE OR LOI IO CE IMAI BS IME WNESIBOL UMEIMER IBSLOCHER BL IME TBLD IO SNFFER IME SHBLYS ALD ARROUS OF ONIRAYEONS FORINLE OR IO IAVE ARTS AYABLSI A SEA OF IRONCHES ALD CK OPPOSBLY ELD\n",
            "......../././...../................/................................................................\n",
            "r =   5300: Pl = -519.83\n",
            "ELIER MATHEI MAT IO CE OR LOI IO CE IMAI BS IME WNESIBOL UMEIMER IBSLOCHER BL IME TBLY IO SNFFER IME SHBLDS ALY ARROUS OF ONIRADEONS FORINLE OR IO IAVE ARTS ADABLSI A SEA OF IRONCHES ALY CK OPPOSBLD ELY\n",
            "............./............................../.......................................................\n",
            "r =   5400: Pl = -519.83\n",
            "ELIER MATHEI MAT IO CE OR LOI IO CE IMAI BS IME WNESIBOL UMEIMER IBSLOCHER BL IME TBLY IO SNFFER IME SHBLDS ALY ARROUS OF ONIRADEONS FORINLE OR IO IAVE ARTS ADABLSI A SEA OF IRONCHES ALY CK OPPOSBLD ELY\n",
            "............../.............../.........../../......................................................\n",
            "r =   5500: Pl = -519.83\n",
            "ELIER MATHEI MAT IO CE OR LOI IO CE IMAI BS IME WNESIBOL UMEIMER IBSLOCHER BL IME TBLY IO SNFFER IME SHBLDS ALY ARROUS OF ONIRADEONS FORINLE OR IO IAVE ARTS ADABLSI A SEA OF IRONCHES ALY CK OPPOSBLD ELY\n",
            "....................../......./........................../..........................................\n",
            "r =   5600: Pl = -519.83\n",
            "ELIER MATHEI MAT IO CE OR LOI IO CE IMAI BS IME WNESIBOL UMEIMER IBSLOCHER BL IME TBLY IO SNFFER IME SHBLDS ALY ARROUS OF ONIRADEONS FORINLE OR IO IAVE ARTS ADABLSI A SEA OF IRONCHES ALY CK OPPOSBLD ELY\n",
            ".............................................................................../....................\n",
            "r =   5700: Pl = -519.83\n",
            "ELIER MATHEI MAT IO CE OR LOI IO CE IMAI BS IME WNESIBOL UMEIMER IBSLOCHER BL IME TBLY IO SNFFER IME SHBLDS ALY ARROUS OF ONIRADEONS FORINLE OR IO IAVE ARTS ADABLSI A SEA OF IRONCHES ALY CK OPPOSBLD ELY\n",
            "./........./............................................../....................................../..\n",
            "r =   5800: Pl = -519.83\n",
            "ELIER MATHEI MAT IO CE OR LOI IO CE IMAI BS IME WNESIBOL UMEIMER IBSLOCHER BL IME TBLY IO SNFFER IME SHBLDS ALY ARROUS OF ONIRADEONS FORINLE OR IO IAVE ARTS ADABLSI A SEA OF IRONCHES ALY CK OPPOSBLD ELY\n",
            "/........................................................../...................................../..\n",
            "r =   5900: Pl = -519.83\n",
            "ELIER MATHEI MAT IO CE OR LOI IO CE IMAI BS IME WNESIBOL UMEIMER IBSLOCHER BL IME TBLY IO SNFFER IME SHBLDS ALY ARROUS OF ONIRADEONS FORINLE OR IO IAVE ARTS ADABLSI A SEA OF IRONCHES ALY CK OPPOSBLD ELY\n",
            "....................................................................................................\n",
            "r =   6000: Pl = -519.83\n",
            "ELIER MATHEI MAT IO CE OR LOI IO CE IMAI BS IME WNESIBOL UMEIMER IBSLOCHER BL IME TBLY IO SNFFER IME SHBLDS ALY ARROUS OF ONIRADEONS FORINLE OR IO IAVE ARTS ADABLSI A SEA OF IRONCHES ALY CK OPPOSBLD ELY\n",
            "..../............/.................../.............................../........................./....\n",
            "r =   6100: Pl = -519.83\n",
            "ELIER MATHEI MAT IO CE OR LOI IO CE IMAI BS IME WNESIBOL UMEIMER IBSLOCHER BL IME TBLY IO SNFFER IME SHBLDS ALY ARROUS OF ONIRADEONS FORINLE OR IO IAVE ARTS ADABLSI A SEA OF IRONCHES ALY CK OPPOSBLD ELY\n",
            "........................./......................................./............../...................\n",
            "r =   6200: Pl = -519.83\n",
            "ELIER MATHEI MAT IO CE OR LOI IO CE IMAI BS IME WNESIBOL UMEIMER IBSLOCHER BL IME TBLY IO SNFFER IME SHBLDS ALY ARROUS OF ONIRADEONS FORINLE OR IO IAVE ARTS ADABLSI A SEA OF IRONCHES ALY CK OPPOSBLD ELY\n",
            "................................../.................................................../.............\n",
            "r =   6300: Pl = -519.83\n",
            "ELIER MATHEI MAT IO CE OR LOI IO CE IMAI BS IME WNESIBOL UMEIMER IBSLOCHER BL IME TBLY IO SNFFER IME SHBLDS ALY ARROUS OF ONIRADEONS FORINLE OR IO IAVE ARTS ADABLSI A SEA OF IRONCHES ALY CK OPPOSBLD ELY\n",
            "......../.................../...././................................./..............................\n",
            "r =   6400: Pl = -519.83\n",
            "ELIER MATHEI MAT IO CE OR LOI IO CE IMAI BS IME WNESIBOL UMEIMER IBSLOCHER BL IME TBLY IO SNFFER IME SHBLDS ALY ARROUS OF ONIRADEONS FORINLE OR IO IAVE ARTS ADABLSI A SEA OF IRONCHES ALY CK OPPOSBLD ELY\n",
            ".........................................../../.../............................................../..\n",
            "r =   6500: Pl = -519.83\n",
            "ELIER MATHEI MAT IO CE OR LOI IO CE IMAI BS IME WNESIBOL UMEIMER IBSLOCHER BL IME TBLY IO SNFFER IME SHBLDS ALY ARROUS OF ONIRADEONS FORINLE OR IO IAVE ARTS ADABLSI A SEA OF IRONCHES ALY CK OPPOSBLD ELY\n",
            "....................../........./..................../............../...............................\n",
            "r =   6600: Pl = -519.83\n",
            "ELIER MATHEI MAT IO CE OR LOI IO CE IMAI BS IME WNESIBOL UMEIMER IBSLOCHER BL IME TBLY IO SNFFER IME SHBLDS ALY ARROUS OF ONIRADEONS FORINLE OR IO IAVE ARTS ADABLSI A SEA OF IRONCHES ALY CK OPPOSBLD ELY\n",
            ".................../............./.................../..............................................\n",
            "r =   6700: Pl = -519.83\n",
            "ELIER MATHEI MAT IO CE OR LOI IO CE IMAI BS IME WNESIBOL UMEIMER IBSLOCHER BL IME TBLY IO SNFFER IME SHBLDS ALY ARROUS OF ONIRADEONS FORINLE OR IO IAVE ARTS ADABLSI A SEA OF IRONCHES ALY CK OPPOSBLD ELY\n",
            "....................................................../..........././...............................\n",
            "r =   6800: Pl = -519.83\n",
            "ELIER MATHEI MAT IO CE OR LOI IO CE IMAI BS IME WNESIBOL UMEIMER IBSLOCHER BL IME TBLY IO SNFFER IME SHBLDS ALY ARROUS OF ONIRADEONS FORINLE OR IO IAVE ARTS ADABLSI A SEA OF IRONCHES ALY CK OPPOSBLD ELY\n",
            "............................/................/............./......................./......../.......\n",
            "r =   6900: Pl = -519.83\n",
            "ELIER MATHEI MAT IO CE OR LOI IO CE IMAI BS IME WNESIBOL UMEIMER IBSLOCHER BL IME TBLY IO SNFFER IME SHBLDS ALY ARROUS OF ONIRADEONS FORINLE OR IO IAVE ARTS ADABLSI A SEA OF IRONCHES ALY CK OPPOSBLD ELY\n",
            ".../................./............................./................../......./.....................\n",
            "r =   7000: Pl = -519.83\n",
            "ELIER MATHEI MAT IO CE OR LOI IO CE IMAI BS IME WNESIBOL UMEIMER IBSLOCHER BL IME TBLY IO SNFFER IME SHBLDS ALY ARROUS OF ONIRADEONS FORINLE OR IO IAVE ARTS ADABLSI A SEA OF IRONCHES ALY CK OPPOSBLD ELY\n",
            "............................................................/............../........................\n",
            "r =   7100: Pl = -519.83\n",
            "ELIER MATHEI MAT IO CE OR LOI IO CE IMAI BS IME WNESIBOL UMEIMER IBSLOCHER BL IME TBLY IO SNFFER IME SHBLDS ALY ARROUS OF ONIRADEONS FORINLE OR IO IAVE ARTS ADABLSI A SEA OF IRONCHES ALY CK OPPOSBLD ELY\n",
            "..../........................................................................././.../...............\n",
            "r =   7200: Pl = -519.83\n",
            "ELIER MATHEI MAT IO CE OR LOI IO CE IMAI BS IME WNESIBOL UMEIMER IBSLOCHER BL IME TBLY IO SNFFER IME SHBLDS ALY ARROUS OF ONIRADEONS FORINLE OR IO IAVE ARTS ADABLSI A SEA OF IRONCHES ALY CK OPPOSBLD ELY\n",
            "......./......................./....................................................................\n",
            "r =   7300: Pl = -519.83\n",
            "ELIER MATHEI MAT IO CE OR LOI IO CE IMAI BS IME WNESIBOL UMEIMER IBSLOCHER BL IME TBLY IO SNFFER IME SHBLDS ALY ARROUS OF ONIRADEONS FORINLE OR IO IAVE ARTS ADABLSI A SEA OF IRONCHES ALY CK OPPOSBLD ELY\n",
            "..../../................../..../....................../.........../.........../.....................\n",
            "r =   7400: Pl = -519.83\n",
            "ELIER MATHEI MAT IO CE OR LOI IO CE IMAI BS IME WNESIBOL UMEIMER IBSLOCHER BL IME TBLY IO SNFFER IME SHBLDS ALY ARROUS OF ONIRADEONS FORINLE OR IO IAVE ARTS ADABLSI A SEA OF IRONCHES ALY CK OPPOSBLD ELY\n",
            "......................................../../.../................................................../.\n",
            "r =   7500: Pl = -519.83\n",
            "ELIER MATHEI MAT IO CE OR LOI IO CE IMAI BS IME WNESIBOL UMEIMER IBSLOCHER BL IME TBLY IO SNFFER IME SHBLDS ALY ARROUS OF ONIRADEONS FORINLE OR IO IAVE ARTS ADABLSI A SEA OF IRONCHES ALY CK OPPOSBLD ELY\n",
            "......../................./................./............/..........................................\n",
            "r =   7600: Pl = -519.83\n",
            "ELIER MATHEI MAT IO CE OR LOI IO CE IMAI BS IME WNESIBOL UMEIMER IBSLOCHER BL IME TBLY IO SNFFER IME SHBLDS ALY ARROUS OF ONIRADEONS FORINLE OR IO IAVE ARTS ADABLSI A SEA OF IRONCHES ALY CK OPPOSBLD ELY\n",
            "................................................/......./.........../..............././.............\n",
            "r =   7700: Pl = -519.83\n",
            "ELIER MATHEI MAT IO CE OR LOI IO CE IMAI BS IME WNESIBOL UMEIMER IBSLOCHER BL IME TBLY IO SNFFER IME SHBLDS ALY ARROUS OF ONIRADEONS FORINLE OR IO IAVE ARTS ADABLSI A SEA OF IRONCHES ALY CK OPPOSBLD ELY\n",
            "..../............./...................................../................./.........................\n",
            "r =   7800: Pl = -519.83\n",
            "ELIER MATHEI MAT IO CE OR LOI IO CE IMAI BS IME WNESIBOL UMEIMER IBSLOCHER BL IME TBLY IO SNFFER IME SHBLDS ALY ARROUS OF ONIRADEONS FORINLE OR IO IAVE ARTS ADABLSI A SEA OF IRONCHES ALY CK OPPOSBLD ELY\n",
            "................................................/........../..../.............................../...\n",
            "r =   7900: Pl = -519.83\n",
            "ELIER MATHEI MAT IO CE OR LOI IO CE IMAI BS IME WNESIBOL UMEIMER IBSLOCHER BL IME TBLY IO SNFFER IME SHBLDS ALY ARROUS OF ONIRADEONS FORINLE OR IO IAVE ARTS ADABLSI A SEA OF IRONCHES ALY CK OPPOSBLD ELY\n",
            "../.........................../................./...................................................\n",
            "r =   8000: Pl = -519.83\n",
            "ELIER MATHEI MAT IO CE OR LOI IO CE IMAI BS IME WNESIBOL UMEIMER IBSLOCHER BL IME TBLY IO SNFFER IME SHBLDS ALY ARROUS OF ONIRADEONS FORINLE OR IO IAVE ARTS ADABLSI A SEA OF IRONCHES ALY CK OPPOSBLD ELY\n",
            "............../..................................../..................................../...........\n",
            "r =   8100: Pl = -519.83\n",
            "ELIER MATHEI MAT IO CE OR LOI IO CE IMAI BS IME WNESIBOL UMEIMER IBSLOCHER BL IME TBLY IO SNFFER IME SHBLDS ALY ARROUS OF ONIRADEONS FORINLE OR IO IAVE ARTS ADABLSI A SEA OF IRONCHES ALY CK OPPOSBLD ELY\n",
            ".................................../................/......................../......................\n",
            "r =   8200: Pl = -519.83\n",
            "ELIER MATHEI MAT IO CE OR LOI IO CE IMAI BS IME WNESIBOL UMEIMER IBSLOCHER BL IME TBLY IO SNFFER IME SHBLDS ALY ARROUS OF ONIRADEONS FORINLE OR IO IAVE ARTS ADABLSI A SEA OF IRONCHES ALY CK OPPOSBLD ELY\n",
            "........../........................................................................../....../.......\n",
            "r =   8300: Pl = -519.83\n",
            "ELIER MATHEI MAT IO CE OR LOI IO CE IMAI BS IME WNESIBOL UMEIMER IBSLOCHER BL IME TBLY IO SNFFER IME SHBLDS ALY ARROUS OF ONIRADEONS FORINLE OR IO IAVE ARTS ADABLSI A SEA OF IRONCHES ALY CK OPPOSBLD ELY\n",
            "............................................................../.....................................\n",
            "r =   8400: Pl = -519.83\n",
            "ELIER MATHEI MAT IO CE OR LOI IO CE IMAI BS IME WNESIBOL UMEIMER IBSLOCHER BL IME TBLY IO SNFFER IME SHBLDS ALY ARROUS OF ONIRADEONS FORINLE OR IO IAVE ARTS ADABLSI A SEA OF IRONCHES ALY CK OPPOSBLD ELY\n",
            "....................................................................................................\n",
            "r =   8500: Pl = -519.83\n",
            "ELIER MATHEI MAT IO CE OR LOI IO CE IMAI BS IME WNESIBOL UMEIMER IBSLOCHER BL IME TBLY IO SNFFER IME SHBLDS ALY ARROUS OF ONIRADEONS FORINLE OR IO IAVE ARTS ADABLSI A SEA OF IRONCHES ALY CK OPPOSBLD ELY\n",
            "............./............................./........../......................................./.....\n",
            "r =   8600: Pl = -519.83\n",
            "ELIER MATHEI MAT IO CE OR LOI IO CE IMAI BS IME WNESIBOL UMEIMER IBSLOCHER BL IME TBLY IO SNFFER IME SHBLDS ALY ARROUS OF ONIRADEONS FORINLE OR IO IAVE ARTS ADABLSI A SEA OF IRONCHES ALY CK OPPOSBLD ELY\n",
            "........................................................................................../.........\n",
            "r =   8700: Pl = -519.83\n",
            "ELIER MATHEI MAT IO CE OR LOI IO CE IMAI BS IME WNESIBOL UMEIMER IBSLOCHER BL IME TBLY IO SNFFER IME SHBLDS ALY ARROUS OF ONIRADEONS FORINLE OR IO IAVE ARTS ADABLSI A SEA OF IRONCHES ALY CK OPPOSBLD ELY\n",
            "............................................./........./..................................../.......\n",
            "r =   8800: Pl = -519.83\n",
            "ELIER MATHEI MAT IO CE OR LOI IO CE IMAI BS IME WNESIBOL UMEIMER IBSLOCHER BL IME TBLY IO SNFFER IME SHBLDS ALY ARROUS OF ONIRADEONS FORINLE OR IO IAVE ARTS ADABLSI A SEA OF IRONCHES ALY CK OPPOSBLD ELY\n",
            "............................................................../.....................................\n",
            "r =   8900: Pl = -519.83\n",
            "ELIER MATHEI MAT IO CE OR LOI IO CE IMAI BS IME WNESIBOL UMEIMER IBSLOCHER BL IME TBLY IO SNFFER IME SHBLDS ALY ARROUS OF ONIRADEONS FORINLE OR IO IAVE ARTS ADABLSI A SEA OF IRONCHES ALY CK OPPOSBLD ELY\n",
            "/.../....../.............................................../............................./....../...\n",
            "r =   9000: Pl = -519.83\n",
            "ELIER MATHEI MAT IO CE OR LOI IO CE IMAI BS IME WNESIBOL UMEIMER IBSLOCHER BL IME TBLY IO SNFFER IME SHBLDS ALY ARROUS OF ONIRADEONS FORINLE OR IO IAVE ARTS ADABLSI A SEA OF IRONCHES ALY CK OPPOSBLD ELY\n",
            "............................................................................./......................\n",
            "r =   9100: Pl = -519.83\n",
            "ELIER MATHEI MAT IO CE OR LOI IO CE IMAI BS IME WNESIBOL UMEIMER IBSLOCHER BL IME TBLY IO SNFFER IME SHBLDS ALY ARROUS OF ONIRADEONS FORINLE OR IO IAVE ARTS ADABLSI A SEA OF IRONCHES ALY CK OPPOSBLD ELY\n",
            "../....................................................../..........................................\n",
            "r =   9200: Pl = -519.83\n",
            "ELIER MATHEI MAT IO CE OR LOI IO CE IMAI BS IME WNESIBOL UMEIMER IBSLOCHER BL IME TBLY IO SNFFER IME SHBLDS ALY ARROUS OF ONIRADEONS FORINLE OR IO IAVE ARTS ADABLSI A SEA OF IRONCHES ALY CK OPPOSBLD ELY\n",
            "....................................................................................................\n",
            "r =   9300: Pl = -519.83\n",
            "ELIER MATHEI MAT IO CE OR LOI IO CE IMAI BS IME WNESIBOL UMEIMER IBSLOCHER BL IME TBLY IO SNFFER IME SHBLDS ALY ARROUS OF ONIRADEONS FORINLE OR IO IAVE ARTS ADABLSI A SEA OF IRONCHES ALY CK OPPOSBLD ELY\n",
            "................./........................./........................................./..............\n",
            "r =   9400: Pl = -519.83\n",
            "ELIER MATHEI MAT IO CE OR LOI IO CE IMAI BS IME WNESIBOL UMEIMER IBSLOCHER BL IME TBLY IO SNFFER IME SHBLDS ALY ARROUS OF ONIRADEONS FORINLE OR IO IAVE ARTS ADABLSI A SEA OF IRONCHES ALY CK OPPOSBLD ELY\n",
            "........../............................................................................./......./...\n",
            "r =   9500: Pl = -519.83\n",
            "ELIER MATHEI MAT IO CE OR LOI IO CE IMAI BS IME WNESIBOL UMEIMER IBSLOCHER BL IME TBLY IO SNFFER IME SHBLDS ALY ARROUS OF ONIRADEONS FORINLE OR IO IAVE ARTS ADABLSI A SEA OF IRONCHES ALY CK OPPOSBLD ELY\n",
            "....................................................................................................\n",
            "r =   9600: Pl = -519.83\n",
            "ELIER MATHEI MAT IO CE OR LOI IO CE IMAI BS IME WNESIBOL UMEIMER IBSLOCHER BL IME TBLY IO SNFFER IME SHBLDS ALY ARROUS OF ONIRADEONS FORINLE OR IO IAVE ARTS ADABLSI A SEA OF IRONCHES ALY CK OPPOSBLD ELY\n",
            "..................................................../...............................................\n",
            "r =   9700: Pl = -519.83\n",
            "ELIER MATHEI MAT IO CE OR LOI IO CE IMAI BS IME WNESIBOL UMEIMER IBSLOCHER BL IME TBLY IO SNFFER IME SHBLDS ALY ARROUS OF ONIRADEONS FORINLE OR IO IAVE ARTS ADABLSI A SEA OF IRONCHES ALY CK OPPOSBLD ELY\n",
            "............../........./....../......................./.../........................................\n",
            "r =   9800: Pl = -519.83\n",
            "ELIER MATHEI MAT IO CE OR LOI IO CE IMAI BS IME WNESIBOL UMEIMER IBSLOCHER BL IME TBLY IO SNFFER IME SHBLDS ALY ARROUS OF ONIRADEONS FORINLE OR IO IAVE ARTS ADABLSI A SEA OF IRONCHES ALY CK OPPOSBLD ELY\n",
            "......................................................./...................................../...../\n",
            "r =   9900: Pl = -519.83\n",
            "ELIER MATHEI MAT IO CE OR LOI IO CE IMAI BS IME WNESIBOL UMEIMER IBSLOCHER BL IME TBLY IO SNFFER IME SHBLDS ALY ARROUS OF ONIRADEONS FORINLE OR IO IAVE ARTS ADABLSI A SEA OF IRONCHES ALY CK OPPOSBLD ELY\n",
            "..../.........................../...................................................................\n",
            "r =  10000: Pl = -519.83\n",
            "ELIER MATHEI MAT IO CE OR LOI IO CE IMAI BS IME WNESIBOL UMEIMER IBSLOCHER BL IME TBLY IO SNFFER IME SHBLDS ALY ARROUS OF ONIRADEONS FORINLE OR IO IAVE ARTS ADABLSI A SEA OF IRONCHES ALY CK OPPOSBLD ELY\n",
            ".........../........................................./.....................././.....................\n",
            "r =  10100: Pl = -519.83\n",
            "ELIER MATHEI MAT IO CE OR LOI IO CE IMAI BS IME WNESIBOL UMEIMER IBSLOCHER BL IME TBLY IO SNFFER IME SHBLDS ALY ARROUS OF ONIRADEONS FORINLE OR IO IAVE ARTS ADABLSI A SEA OF IRONCHES ALY CK OPPOSBLD ELY\n",
            "....................................................................................................\n",
            "r =  10200: Pl = -519.83\n",
            "ELIER MATHEI MAT IO CE OR LOI IO CE IMAI BS IME WNESIBOL UMEIMER IBSLOCHER BL IME TBLY IO SNFFER IME SHBLDS ALY ARROUS OF ONIRADEONS FORINLE OR IO IAVE ARTS ADABLSI A SEA OF IRONCHES ALY CK OPPOSBLD ELY\n",
            "......................../......................./...................................................\n",
            "r =  10300: Pl = -519.83\n",
            "ELIER MATHEI MAT IO CE OR LOI IO CE IMAI BS IME WNESIBOL UMEIMER IBSLOCHER BL IME TBLY IO SNFFER IME SHBLDS ALY ARROUS OF ONIRADEONS FORINLE OR IO IAVE ARTS ADABLSI A SEA OF IRONCHES ALY CK OPPOSBLD ELY\n",
            "............................................/.......................................................\n",
            "r =  10400: Pl = -519.83\n",
            "ELIER MATHEI MAT IO CE OR LOI IO CE IMAI BS IME WNESIBOL UMEIMER IBSLOCHER BL IME TBLY IO SNFFER IME SHBLDS ALY ARROUS OF ONIRADEONS FORINLE OR IO IAVE ARTS ADABLSI A SEA OF IRONCHES ALY CK OPPOSBLD ELY\n",
            ".../......................./.......//...............................................................\n",
            "r =  10500: Pl = -519.83\n",
            "ELIER MATHEI MAT IO CE OR LOI IO CE IMAI BS IME WNESIBOL UMEIMER IBSLOCHER BL IME TBLY IO SNFFER IME SHBLDS ALY ARROUS OF ONIRADEONS FORINLE OR IO IAVE ARTS ADABLSI A SEA OF IRONCHES ALY CK OPPOSBLD ELY\n",
            "................................................../....................................../..........\n",
            "r =  10600: Pl = -522.73\n",
            "ELIER MATHEI MAT IO CE OR LOI IO CE IMAI BS IME GNESIBOL UMEIMER IBSLOCHER BL IME TBLY IO SNFFER IME SHBLDS ALY ARROUS OF ONIRADEONS FORINLE OR IO IAVE ARTS ADABLSI A SEA OF IRONCHES ALY CK OPPOSBLD ELY\n",
            "....................................................................................................\n",
            "r =  10700: Pl = -522.73\n",
            "ELIER MATHEI MAT IO CE OR LOI IO CE IMAI BS IME GNESIBOL UMEIMER IBSLOCHER BL IME TBLY IO SNFFER IME SHBLDS ALY ARROUS OF ONIRADEONS FORINLE OR IO IAVE ARTS ADABLSI A SEA OF IRONCHES ALY CK OPPOSBLD ELY\n",
            "....................................................................../........................../..\n",
            "r =  10800: Pl = -522.73\n",
            "ELIER MATHEI MAT IO CE OR LOI IO CE IMAI BS IME GNESIBOL UMEIMER IBSLOCHER BL IME TBLY IO SNFFER IME SHBLDS ALY ARROUS OF ONIRADEONS FORINLE OR IO IAVE ARTS ADABLSI A SEA OF IRONCHES ALY CK OPPOSBLD ELY\n",
            ".../............................................................/...................................\n",
            "r =  10900: Pl = -522.73\n",
            "ELIER MATHEI MAT IO CE OR LOI IO CE IMAI BS IME GNESIBOL UMEIMER IBSLOCHER BL IME TBLY IO SNFFER IME SHBLDS ALY ARROUS OF ONIRADEONS FORINLE OR IO IAVE ARTS ADABLSI A SEA OF IRONCHES ALY CK OPPOSBLD ELY\n",
            "................./...../............../............................................./...............\n",
            "r =  11000: Pl = -519.83\n",
            "ELIER MATHEI MAT IO CE OR LOI IO CE IMAI BS IME WNESIBOL UMEIMER IBSLOCHER BL IME TBLY IO SNFFER IME SHBLDS ALY ARROUS OF ONIRADEONS FORINLE OR IO IAVE ARTS ADABLSI A SEA OF IRONCHES ALY CK OPPOSBLD ELY\n",
            ".//........................./.......................................................................\n",
            "r =  11100: Pl = -519.83\n",
            "ELIER MATHEI MAT IO CE OR LOI IO CE IMAI BS IME WNESIBOL UMEIMER IBSLOCHER BL IME TBLY IO SNFFER IME SHBLDS ALY ARROUS OF ONIRADEONS FORINLE OR IO IAVE ARTS ADABLSI A SEA OF IRONCHES ALY CK OPPOSBLD ELY\n",
            ".........../........................................................................................\n",
            "r =  11200: Pl = -519.83\n",
            "ELIER MATHEI MAT IO CE OR LOI IO CE IMAI BS IME WNESIBOL UMEIMER IBSLOCHER BL IME TBLY IO SNFFER IME SHBLDS ALY ARROUS OF ONIRADEONS FORINLE OR IO IAVE ARTS ADABLSI A SEA OF IRONCHES ALY CK OPPOSBLD ELY\n",
            ".............................................../......................./............................\n",
            "r =  11300: Pl = -519.83\n",
            "ELIER MATHEI MAT IO CE OR LOI IO CE IMAI BS IME WNESIBOL UMEIMER IBSLOCHER BL IME TBLY IO SNFFER IME SHBLDS ALY ARROUS OF ONIRADEONS FORINLE OR IO IAVE ARTS ADABLSI A SEA OF IRONCHES ALY CK OPPOSBLD ELY\n",
            ".................................................................../................../.............\n",
            "r =  11400: Pl = -519.83\n",
            "ELIER MATHEI MAT IO CE OR LOI IO CE IMAI BS IME WNESIBOL UMEIMER IBSLOCHER BL IME TBLY IO SNFFER IME SHBLDS ALY ARROUS OF ONIRADEONS FORINLE OR IO IAVE ARTS ADABLSI A SEA OF IRONCHES ALY CK OPPOSBLD ELY\n",
            "......../...........................................................................................\n",
            "r =  11500: Pl = -519.83\n",
            "ELIER MATHEI MAT IO CE OR LOI IO CE IMAI BS IME WNESIBOL UMEIMER IBSLOCHER BL IME TBLY IO SNFFER IME SHBLDS ALY ARROUS OF ONIRADEONS FORINLE OR IO IAVE ARTS ADABLSI A SEA OF IRONCHES ALY CK OPPOSBLD ELY\n",
            ".........../....................................../....................................../..../.....\n",
            "r =  11600: Pl = -519.83\n",
            "ELIER MATHEI MAT IO CE OR LOI IO CE IMAI BS IME WNESIBOL UMEIMER IBSLOCHER BL IME TBLY IO SNFFER IME SHBLDS ALY ARROUS OF ONIRADEONS FORINLE OR IO IAVE ARTS ADABLSI A SEA OF IRONCHES ALY CK OPPOSBLD ELY\n",
            "..................................................../...............................................\n",
            "r =  11700: Pl = -519.83\n",
            "ELIER MATHEI MAT IO CE OR LOI IO CE IMAI BS IME WNESIBOL UMEIMER IBSLOCHER BL IME TBLY IO SNFFER IME SHBLDS ALY ARROUS OF ONIRADEONS FORINLE OR IO IAVE ARTS ADABLSI A SEA OF IRONCHES ALY CK OPPOSBLD ELY\n",
            "...../............................................................................................./\n",
            "r =  11800: Pl = -519.83\n",
            "ELIER MATHEI MAT IO CE OR LOI IO CE IMAI BS IME WNESIBOL UMEIMER IBSLOCHER BL IME TBLY IO SNFFER IME SHBLDS ALY ARROUS OF ONIRADEONS FORINLE OR IO IAVE ARTS ADABLSI A SEA OF IRONCHES ALY CK OPPOSBLD ELY\n",
            ".................................../........................................................./......\n",
            "r =  11900: Pl = -519.83\n",
            "ELIER MATHEI MAT IO CE OR LOI IO CE IMAI BS IME WNESIBOL UMEIMER IBSLOCHER BL IME TBLY IO SNFFER IME SHBLDS ALY ARROUS OF ONIRADEONS FORINLE OR IO IAVE ARTS ADABLSI A SEA OF IRONCHES ALY CK OPPOSBLD ELY\n",
            "....///.........../........................../......................................................\n",
            "r =  12000: Pl = -519.83\n",
            "ELIER MATHEI MAT IO CE OR LOI IO CE IMAI BS IME WNESIBOL UMEIMER IBSLOCHER BL IME TBLY IO SNFFER IME SHBLDS ALY ARROUS OF ONIRADEONS FORINLE OR IO IAVE ARTS ADABLSI A SEA OF IRONCHES ALY CK OPPOSBLD ELY\n",
            ".................../..../...................................../.../......................../........\n",
            "r =  12100: Pl = -519.83\n",
            "ELIER MATHEI MAT IO CE OR LOI IO CE IMAI BS IME WNESIBOL UMEIMER IBSLOCHER BL IME TBLY IO SNFFER IME SHBLDS ALY ARROUS OF ONIRADEONS FORINLE OR IO IAVE ARTS ADABLSI A SEA OF IRONCHES ALY CK OPPOSBLD ELY\n",
            ".........../........................................................../............................/\n",
            "r =  12200: Pl = -519.83\n",
            "ELIER MATHEI MAT IO CE OR LOI IO CE IMAI BS IME WNESIBOL UMEIMER IBSLOCHER BL IME TBLY IO SNFFER IME SHBLDS ALY ARROUS OF ONIRADEONS FORINLE OR IO IAVE ARTS ADABLSI A SEA OF IRONCHES ALY CK OPPOSBLD ELY\n",
            "....................................../.............................................................\n",
            "r =  12300: Pl = -519.83\n",
            "ELIER MATHEI MAT IO CE OR LOI IO CE IMAI BS IME WNESIBOL UMEIMER IBSLOCHER BL IME TBLY IO SNFFER IME SHBLDS ALY ARROUS OF ONIRADEONS FORINLE OR IO IAVE ARTS ADABLSI A SEA OF IRONCHES ALY CK OPPOSBLD ELY\n",
            "......../........./...........................................././..................................\n",
            "r =  12400: Pl = -519.83\n",
            "ELIER MATHEI MAT IO CE OR LOI IO CE IMAI BS IME WNESIBOL UMEIMER IBSLOCHER BL IME TBLY IO SNFFER IME SHBLDS ALY ARROUS OF ONIRADEONS FORINLE OR IO IAVE ARTS ADABLSI A SEA OF IRONCHES ALY CK OPPOSBLD ELY\n",
            "....................................................................................................\n",
            "r =  12500: Pl = -519.83\n",
            "ELIER MATHEI MAT IO CE OR LOI IO CE IMAI BS IME WNESIBOL UMEIMER IBSLOCHER BL IME TBLY IO SNFFER IME SHBLDS ALY ARROUS OF ONIRADEONS FORINLE OR IO IAVE ARTS ADABLSI A SEA OF IRONCHES ALY CK OPPOSBLD ELY\n",
            ".../../............../................../............................../.............../............\n",
            "r =  12600: Pl = -519.83\n",
            "ELIER MATHEI MAT IO CE OR LOI IO CE IMAI BS IME WNESIBOL UMEIMER IBSLOCHER BL IME TBLY IO SNFFER IME SHBLDS ALY ARROUS OF ONIRADEONS FORINLE OR IO IAVE ARTS ADABLSI A SEA OF IRONCHES ALY CK OPPOSBLD ELY\n",
            "............................/.......................................................................\n",
            "r =  12700: Pl = -519.83\n",
            "ELIER MATHEI MAT IO CE OR LOI IO CE IMAI BS IME WNESIBOL UMEIMER IBSLOCHER BL IME TBLY IO SNFFER IME SHBLDS ALY ARROUS OF ONIRADEONS FORINLE OR IO IAVE ARTS ADABLSI A SEA OF IRONCHES ALY CK OPPOSBLD ELY\n",
            "....................................../.............................................................\n",
            "r =  12800: Pl = -519.83\n",
            "ELIER MATHEI MAT IO CE OR LOI IO CE IMAI BS IME WNESIBOL UMEIMER IBSLOCHER BL IME TBLY IO SNFFER IME SHBLDS ALY ARROUS OF ONIRADEONS FORINLE OR IO IAVE ARTS ADABLSI A SEA OF IRONCHES ALY CK OPPOSBLD ELY\n",
            ".................................................................................................../\n",
            "r =  12900: Pl = -519.83\n",
            "ELIER MATHEI MAT IO CE OR LOI IO CE IMAI BS IME WNESIBOL UMEIMER IBSLOCHER BL IME TBLY IO SNFFER IME SHBLDS ALY ARROUS OF ONIRADEONS FORINLE OR IO IAVE ARTS ADABLSI A SEA OF IRONCHES ALY CK OPPOSBLD ELY\n",
            "....../.................../................................/........................................\n",
            "r =  13000: Pl = -519.83\n",
            "ELIER MATHEI MAT IO CE OR LOI IO CE IMAI BS IME WNESIBOL UMEIMER IBSLOCHER BL IME TBLY IO SNFFER IME SHBLDS ALY ARROUS OF ONIRADEONS FORINLE OR IO IAVE ARTS ADABLSI A SEA OF IRONCHES ALY CK OPPOSBLD ELY\n",
            "................./........................./../.....................................................\n",
            "r =  13100: Pl = -519.83\n",
            "ELIER MATHEI MAT IO CE OR LOI IO CE IMAI BS IME WNESIBOL UMEIMER IBSLOCHER BL IME TBLY IO SNFFER IME SHBLDS ALY ARROUS OF ONIRADEONS FORINLE OR IO IAVE ARTS ADABLSI A SEA OF IRONCHES ALY CK OPPOSBLD ELY\n",
            "............................................../........../.....................././............/....\n",
            "r =  13200: Pl = -519.83\n",
            "ELIER MATHEI MAT IO CE OR LOI IO CE IMAI BS IME WNESIBOL UMEIMER IBSLOCHER BL IME TBLY IO SNFFER IME SHBLDS ALY ARROUS OF ONIRADEONS FORINLE OR IO IAVE ARTS ADABLSI A SEA OF IRONCHES ALY CK OPPOSBLD ELY\n",
            "........./................................................/................../......................\n",
            "r =  13300: Pl = -519.83\n",
            "ELIER MATHEI MAT IO CE OR LOI IO CE IMAI BS IME WNESIBOL UMEIMER IBSLOCHER BL IME TBLY IO SNFFER IME SHBLDS ALY ARROUS OF ONIRADEONS FORINLE OR IO IAVE ARTS ADABLSI A SEA OF IRONCHES ALY CK OPPOSBLD ELY\n",
            "......./......./............................................../...........//./..../.................\n",
            "r =  13400: Pl = -519.83\n",
            "ELIER MATHEI MAT IO CE OR LOI IO CE IMAI BS IME WNESIBOL UMEIMER IBSLOCHER BL IME TBLY IO SNFFER IME SHBLDS ALY ARROUS OF ONIRADEONS FORINLE OR IO IAVE ARTS ADABLSI A SEA OF IRONCHES ALY CK OPPOSBLD ELY\n",
            "........../..../.................././................................./.............................\n",
            "r =  13500: Pl = -519.83\n",
            "ELIER MATHEI MAT IO CE OR LOI IO CE IMAI BS IME WNESIBOL UMEIMER IBSLOCHER BL IME TBLY IO SNFFER IME SHBLDS ALY ARROUS OF ONIRADEONS FORINLE OR IO IAVE ARTS ADABLSI A SEA OF IRONCHES ALY CK OPPOSBLD ELY\n",
            "..../../...................................................../............/..................../....\n",
            "r =  13600: Pl = -519.83\n",
            "ELIER MATHEI MAT IO CE OR LOI IO CE IMAI BS IME WNESIBOL UMEIMER IBSLOCHER BL IME TBLY IO SNFFER IME SHBLDS ALY ARROUS OF ONIRADEONS FORINLE OR IO IAVE ARTS ADABLSI A SEA OF IRONCHES ALY CK OPPOSBLD ELY\n",
            "....../........................./.................................................//................\n",
            "r =  13700: Pl = -519.83\n",
            "ELIER MATHEI MAT IO CE OR LOI IO CE IMAI BS IME WNESIBOL UMEIMER IBSLOCHER BL IME TBLY IO SNFFER IME SHBLDS ALY ARROUS OF ONIRADEONS FORINLE OR IO IAVE ARTS ADABLSI A SEA OF IRONCHES ALY CK OPPOSBLD ELY\n",
            "........./................................................................../...................../.\n",
            "r =  13800: Pl = -519.83\n",
            "ELIER MATHEI MAT IO CE OR LOI IO CE IMAI BS IME WNESIBOL UMEIMER IBSLOCHER BL IME TBLY IO SNFFER IME SHBLDS ALY ARROUS OF ONIRADEONS FORINLE OR IO IAVE ARTS ADABLSI A SEA OF IRONCHES ALY CK OPPOSBLD ELY\n",
            "....................................................................../.........../......./...../...\n",
            "r =  13900: Pl = -519.83\n",
            "ELIER MATHEI MAT IO CE OR LOI IO CE IMAI BS IME WNESIBOL UMEIMER IBSLOCHER BL IME TBLY IO SNFFER IME SHBLDS ALY ARROUS OF ONIRADEONS FORINLE OR IO IAVE ARTS ADABLSI A SEA OF IRONCHES ALY CK OPPOSBLD ELY\n",
            "........................................./......................................................./..\n",
            "r =  14000: Pl = -519.83\n",
            "ELIER MATHEI MAT IO CE OR LOI IO CE IMAI BS IME WNESIBOL UMEIMER IBSLOCHER BL IME TBLY IO SNFFER IME SHBLDS ALY ARROUS OF ONIRADEONS FORINLE OR IO IAVE ARTS ADABLSI A SEA OF IRONCHES ALY CK OPPOSBLD ELY\n",
            ".../......................................................................................./........\n",
            "r =  14100: Pl = -519.83\n",
            "ELIER MATHEI MAT IO CE OR LOI IO CE IMAI BS IME WNESIBOL UMEIMER IBSLOCHER BL IME TBLY IO SNFFER IME SHBLDS ALY ARROUS OF ONIRADEONS FORINLE OR IO IAVE ARTS ADABLSI A SEA OF IRONCHES ALY CK OPPOSBLD ELY\n",
            "................/......................./........../............./...................../............\n",
            "r =  14200: Pl = -519.83\n",
            "ELIER MATHEI MAT IO CE OR LOI IO CE IMAI BS IME WNESIBOL UMEIMER IBSLOCHER BL IME TBLY IO SNFFER IME SHBLDS ALY ARROUS OF ONIRADEONS FORINLE OR IO IAVE ARTS ADABLSI A SEA OF IRONCHES ALY CK OPPOSBLD ELY\n",
            "/....../......................./................................................................/...\n",
            "r =  14300: Pl = -519.83\n",
            "ELIER MATHEI MAT IO CE OR LOI IO CE IMAI BS IME WNESIBOL UMEIMER IBSLOCHER BL IME TBLY IO SNFFER IME SHBLDS ALY ARROUS OF ONIRADEONS FORINLE OR IO IAVE ARTS ADABLSI A SEA OF IRONCHES ALY CK OPPOSBLD ELY\n",
            "........................../.........................................................................\n",
            "r =  14400: Pl = -519.83\n",
            "ELIER MATHEI MAT IO CE OR LOI IO CE IMAI BS IME WNESIBOL UMEIMER IBSLOCHER BL IME TBLY IO SNFFER IME SHBLDS ALY ARROUS OF ONIRADEONS FORINLE OR IO IAVE ARTS ADABLSI A SEA OF IRONCHES ALY CK OPPOSBLD ELY\n",
            "...../............................/........................../........./............/.../...........\n",
            "r =  14500: Pl = -519.83\n",
            "ELIER MATHEI MAT IO CE OR LOI IO CE IMAI BS IME WNESIBOL UMEIMER IBSLOCHER BL IME TBLY IO SNFFER IME SHBLDS ALY ARROUS OF ONIRADEONS FORINLE OR IO IAVE ARTS ADABLSI A SEA OF IRONCHES ALY CK OPPOSBLD ELY\n",
            "..................................................../...............................................\n",
            "r =  14600: Pl = -519.83\n",
            "ELIER MATHEI MAT IO CE OR LOI IO CE IMAI BS IME WNESIBOL UMEIMER IBSLOCHER BL IME TBLY IO SNFFER IME SHBLDS ALY ARROUS OF ONIRADEONS FORINLE OR IO IAVE ARTS ADABLSI A SEA OF IRONCHES ALY CK OPPOSBLD ELY\n",
            "........................./......../.................................................................\n",
            "r =  14700: Pl = -519.83\n",
            "ELIER MATHEI MAT IO CE OR LOI IO CE IMAI BS IME WNESIBOL UMEIMER IBSLOCHER BL IME TBLY IO SNFFER IME SHBLDS ALY ARROUS OF ONIRADEONS FORINLE OR IO IAVE ARTS ADABLSI A SEA OF IRONCHES ALY CK OPPOSBLD ELY\n",
            "......../............/....................................................../...../.................\n",
            "r =  14800: Pl = -519.83\n",
            "ELIER MATHEI MAT IO CE OR LOI IO CE IMAI BS IME WNESIBOL UMEIMER IBSLOCHER BL IME TBLY IO SNFFER IME SHBLDS ALY ARROUS OF ONIRADEONS FORINLE OR IO IAVE ARTS ADABLSI A SEA OF IRONCHES ALY CK OPPOSBLD ELY\n",
            "./....................................../...................................../................../..\n",
            "r =  14900: Pl = -519.83\n",
            "ELIER MATHEI MAT IO CE OR LOI IO CE IMAI BS IME WNESIBOL UMEIMER IBSLOCHER BL IME TBLY IO SNFFER IME SHBLDS ALY ARROUS OF ONIRADEONS FORINLE OR IO IAVE ARTS ADABLSI A SEA OF IRONCHES ALY CK OPPOSBLD ELY\n",
            "............./................/......./............................../..../.........................\n",
            "r =  15000: Pl = -519.83\n",
            "ELIER MATHEI MAT IO CE OR LOI IO CE IMAI BS IME WNESIBOL UMEIMER IBSLOCHER BL IME TBLY IO SNFFER IME SHBLDS ALY ARROUS OF ONIRADEONS FORINLE OR IO IAVE ARTS ADABLSI A SEA OF IRONCHES ALY CK OPPOSBLD ELY\n",
            ".....//.............................................................................................\n",
            "r =  15100: Pl = -519.83\n",
            "ELIER MATHEI MAT IO CE OR LOI IO CE IMAI BS IME WNESIBOL UMEIMER IBSLOCHER BL IME TBLY IO SNFFER IME SHBLDS ALY ARROUS OF ONIRADEONS FORINLE OR IO IAVE ARTS ADABLSI A SEA OF IRONCHES ALY CK OPPOSBLD ELY\n",
            "........../......................./.................................................................\n",
            "r =  15200: Pl = -523.43\n",
            "ELIER MATHEI MAT IO CE OR LOI IO CE IMAI BS IME WNESIBOL UMEIMER IBSLOCHER BL IME TBLY IO SNFFER IME SHBLDS ALY ARROUS OF ONIRADEONS FORINLE OR IO IAVE ARTS ADABLSI A SEA OF IRONCHES ALY CK OGGOSBLD ELY\n",
            "....................................................................................................\n",
            "r =  15300: Pl = -523.43\n",
            "ELIER MATHEI MAT IO CE OR LOI IO CE IMAI BS IME WNESIBOL UMEIMER IBSLOCHER BL IME TBLY IO SNFFER IME SHBLDS ALY ARROUS OF ONIRADEONS FORINLE OR IO IAVE ARTS ADABLSI A SEA OF IRONCHES ALY CK OGGOSBLD ELY\n",
            "/............................................/......................................./......../.....\n",
            "r =  15400: Pl = -523.43\n",
            "ELIER MATHEI MAT IO CE OR LOI IO CE IMAI BS IME WNESIBOL UMEIMER IBSLOCHER BL IME TBLY IO SNFFER IME SHBLDS ALY ARROUS OF ONIRADEONS FORINLE OR IO IAVE ARTS ADABLSI A SEA OF IRONCHES ALY CK OGGOSBLD ELY\n",
            "..................../...................../.........................................................\n",
            "r =  15500: Pl = -519.83\n",
            "ELIER MATHEI MAT IO CE OR LOI IO CE IMAI BS IME WNESIBOL UMEIMER IBSLOCHER BL IME TBLY IO SNFFER IME SHBLDS ALY ARROUS OF ONIRADEONS FORINLE OR IO IAVE ARTS ADABLSI A SEA OF IRONCHES ALY CK OPPOSBLD ELY\n",
            "................./............................................./....................................\n",
            "r =  15600: Pl = -519.83\n",
            "ELIER MATHEI MAT IO CE OR LOI IO CE IMAI BS IME WNESIBOL UMEIMER IBSLOCHER BL IME TBLY IO SNFFER IME SHBLDS ALY ARROUS OF ONIRADEONS FORINLE OR IO IAVE ARTS ADABLSI A SEA OF IRONCHES ALY CK OPPOSBLD ELY\n",
            ".................................../................./.............................../........//....\n",
            "r =  15700: Pl = -519.83\n",
            "ELIER MATHEI MAT IO CE OR LOI IO CE IMAI BS IME WNESIBOL UMEIMER IBSLOCHER BL IME TBLY IO SNFFER IME SHBLDS ALY ARROUS OF ONIRADEONS FORINLE OR IO IAVE ARTS ADABLSI A SEA OF IRONCHES ALY CK OPPOSBLD ELY\n",
            "............./................./......................................../...........................\n",
            "r =  15800: Pl = -519.83\n",
            "ELIER MATHEI MAT IO CE OR LOI IO CE IMAI BS IME WNESIBOL UMEIMER IBSLOCHER BL IME TBLY IO SNFFER IME SHBLDS ALY ARROUS OF ONIRADEONS FORINLE OR IO IAVE ARTS ADABLSI A SEA OF IRONCHES ALY CK OPPOSBLD ELY\n",
            "......................../............../...................../......................................\n",
            "r =  15900: Pl = -519.83\n",
            "ELIER MATHEI MAT IO CE OR LOI IO CE IMAI BS IME WNESIBOL UMEIMER IBSLOCHER BL IME TBLY IO SNFFER IME SHBLDS ALY ARROUS OF ONIRADEONS FORINLE OR IO IAVE ARTS ADABLSI A SEA OF IRONCHES ALY CK OPPOSBLD ELY\n",
            ".................................................././...................../......../..../...........\n",
            "r =  16000: Pl = -519.83\n",
            "ELIER MATHEI MAT IO CE OR LOI IO CE IMAI BS IME WNESIBOL UMEIMER IBSLOCHER BL IME TBLY IO SNFFER IME SHBLDS ALY ARROUS OF ONIRADEONS FORINLE OR IO IAVE ARTS ADABLSI A SEA OF IRONCHES ALY CK OPPOSBLD ELY\n",
            "......./......................................./.........../.../....................................\n",
            "r =  16100: Pl = -519.83\n",
            "ELIER MATHEI MAT IO CE OR LOI IO CE IMAI BS IME WNESIBOL UMEIMER IBSLOCHER BL IME TBLY IO SNFFER IME SHBLDS ALY ARROUS OF ONIRADEONS FORINLE OR IO IAVE ARTS ADABLSI A SEA OF IRONCHES ALY CK OPPOSBLD ELY\n",
            "......................................................./........................../.................\n",
            "r =  16200: Pl = -519.83\n",
            "ELIER MATHEI MAT IO CE OR LOI IO CE IMAI BS IME WNESIBOL UMEIMER IBSLOCHER BL IME TBLY IO SNFFER IME SHBLDS ALY ARROUS OF ONIRADEONS FORINLE OR IO IAVE ARTS ADABLSI A SEA OF IRONCHES ALY CK OPPOSBLD ELY\n",
            "..../............/........../......................................././........../..................\n",
            "r =  16300: Pl = -519.83\n",
            "ELIER MATHEI MAT IO CE OR LOI IO CE IMAI BS IME WNESIBOL UMEIMER IBSLOCHER BL IME TBLY IO SNFFER IME SHBLDS ALY ARROUS OF ONIRADEONS FORINLE OR IO IAVE ARTS ADABLSI A SEA OF IRONCHES ALY CK OPPOSBLD ELY\n",
            ".................................../....../................./.......................................\n",
            "r =  16400: Pl = -519.83\n",
            "ELIER MATHEI MAT IO CE OR LOI IO CE IMAI BS IME WNESIBOL UMEIMER IBSLOCHER BL IME TBLY IO SNFFER IME SHBLDS ALY ARROUS OF ONIRADEONS FORINLE OR IO IAVE ARTS ADABLSI A SEA OF IRONCHES ALY CK OPPOSBLD ELY\n",
            "....................................................................................................\n",
            "r =  16500: Pl = -519.83\n",
            "ELIER MATHEI MAT IO CE OR LOI IO CE IMAI BS IME WNESIBOL UMEIMER IBSLOCHER BL IME TBLY IO SNFFER IME SHBLDS ALY ARROUS OF ONIRADEONS FORINLE OR IO IAVE ARTS ADABLSI A SEA OF IRONCHES ALY CK OPPOSBLD ELY\n",
            ".............................../................................../......................../........\n",
            "r =  16600: Pl = -519.83\n",
            "ELIER MATHEI MAT IO CE OR LOI IO CE IMAI BS IME WNESIBOL UMEIMER IBSLOCHER BL IME TBLY IO SNFFER IME SHBLDS ALY ARROUS OF ONIRADEONS FORINLE OR IO IAVE ARTS ADABLSI A SEA OF IRONCHES ALY CK OPPOSBLD ELY\n",
            "................................................................................/...................\n",
            "r =  16700: Pl = -519.83\n",
            "ELIER MATHEI MAT IO CE OR LOI IO CE IMAI BS IME WNESIBOL UMEIMER IBSLOCHER BL IME TBLY IO SNFFER IME SHBLDS ALY ARROUS OF ONIRADEONS FORINLE OR IO IAVE ARTS ADABLSI A SEA OF IRONCHES ALY CK OPPOSBLD ELY\n",
            "..................................................../............/...../............................\n",
            "r =  16800: Pl = -519.83\n",
            "ELIER MATHEI MAT IO CE OR LOI IO CE IMAI BS IME WNESIBOL UMEIMER IBSLOCHER BL IME TBLY IO SNFFER IME SHBLDS ALY ARROUS OF ONIRADEONS FORINLE OR IO IAVE ARTS ADABLSI A SEA OF IRONCHES ALY CK OPPOSBLD ELY\n",
            "../.........................../.............................................../.....................\n",
            "r =  16900: Pl = -519.83\n",
            "ELIER MATHEI MAT IO CE OR LOI IO CE IMAI BS IME WNESIBOL UMEIMER IBSLOCHER BL IME TBLY IO SNFFER IME SHBLDS ALY ARROUS OF ONIRADEONS FORINLE OR IO IAVE ARTS ADABLSI A SEA OF IRONCHES ALY CK OPPOSBLD ELY\n",
            "../........../........./................../../......................................................\n",
            "r =  17000: Pl = -519.83\n",
            "ELIER MATHEI MAT IO CE OR LOI IO CE IMAI BS IME WNESIBOL UMEIMER IBSLOCHER BL IME TBLY IO SNFFER IME SHBLDS ALY ARROUS OF ONIRADEONS FORINLE OR IO IAVE ARTS ADABLSI A SEA OF IRONCHES ALY CK OPPOSBLD ELY\n",
            "............................................................................./......................\n",
            "r =  17100: Pl = -519.83\n",
            "ELIER MATHEI MAT IO CE OR LOI IO CE IMAI BS IME WNESIBOL UMEIMER IBSLOCHER BL IME TBLY IO SNFFER IME SHBLDS ALY ARROUS OF ONIRADEONS FORINLE OR IO IAVE ARTS ADABLSI A SEA OF IRONCHES ALY CK OPPOSBLD ELY\n",
            "....................../............./.../................/..././....................................\n",
            "r =  17200: Pl = -519.83\n",
            "ELIER MATHEI MAT IO CE OR LOI IO CE IMAI BS IME WNESIBOL UMEIMER IBSLOCHER BL IME TBLY IO SNFFER IME SHBLDS ALY ARROUS OF ONIRADEONS FORINLE OR IO IAVE ARTS ADABLSI A SEA OF IRONCHES ALY CK OPPOSBLD ELY\n",
            "./................../............................../........................................./......\n",
            "r =  17300: Pl = -519.83\n",
            "ELIER MATHEI MAT IO CE OR LOI IO CE IMAI BS IME WNESIBOL UMEIMER IBSLOCHER BL IME TBLY IO SNFFER IME SHBLDS ALY ARROUS OF ONIRADEONS FORINLE OR IO IAVE ARTS ADABLSI A SEA OF IRONCHES ALY CK OPPOSBLD ELY\n",
            "....................................................................................................\n",
            "r =  17400: Pl = -519.83\n",
            "ELIER MATHEI MAT IO CE OR LOI IO CE IMAI BS IME WNESIBOL UMEIMER IBSLOCHER BL IME TBLY IO SNFFER IME SHBLDS ALY ARROUS OF ONIRADEONS FORINLE OR IO IAVE ARTS ADABLSI A SEA OF IRONCHES ALY CK OPPOSBLD ELY\n",
            ".../...................../.........................................././.............................\n",
            "r =  17500: Pl = -519.83\n",
            "ELIER MATHEI MAT IO CE OR LOI IO CE IMAI BS IME WNESIBOL UMEIMER IBSLOCHER BL IME TBLY IO SNFFER IME SHBLDS ALY ARROUS OF ONIRADEONS FORINLE OR IO IAVE ARTS ADABLSI A SEA OF IRONCHES ALY CK OPPOSBLD ELY\n",
            "......././.............................................../..........................................\n",
            "r =  17600: Pl = -519.83\n",
            "ELIER MATHEI MAT IO CE OR LOI IO CE IMAI BS IME WNESIBOL UMEIMER IBSLOCHER BL IME TBLY IO SNFFER IME SHBLDS ALY ARROUS OF ONIRADEONS FORINLE OR IO IAVE ARTS ADABLSI A SEA OF IRONCHES ALY CK OPPOSBLD ELY\n",
            "............................................................................/.......................\n",
            "r =  17700: Pl = -519.83\n",
            "ELIER MATHEI MAT IO CE OR LOI IO CE IMAI BS IME WNESIBOL UMEIMER IBSLOCHER BL IME TBLY IO SNFFER IME SHBLDS ALY ARROUS OF ONIRADEONS FORINLE OR IO IAVE ARTS ADABLSI A SEA OF IRONCHES ALY CK OPPOSBLD ELY\n",
            "/............................./.....................................................................\n",
            "r =  17800: Pl = -519.83\n",
            "ELIER MATHEI MAT IO CE OR LOI IO CE IMAI BS IME WNESIBOL UMEIMER IBSLOCHER BL IME TBLY IO SNFFER IME SHBLDS ALY ARROUS OF ONIRADEONS FORINLE OR IO IAVE ARTS ADABLSI A SEA OF IRONCHES ALY CK OPPOSBLD ELY\n",
            "................................/................................/..../...................../.......\n",
            "r =  17900: Pl = -519.83\n",
            "ELIER MATHEI MAT IO CE OR LOI IO CE IMAI BS IME WNESIBOL UMEIMER IBSLOCHER BL IME TBLY IO SNFFER IME SHBLDS ALY ARROUS OF ONIRADEONS FORINLE OR IO IAVE ARTS ADABLSI A SEA OF IRONCHES ALY CK OPPOSBLD ELY\n",
            "......./..../......................./....................../..../.............................../...\n",
            "r =  18000: Pl = -519.83\n",
            "ELIER MATHEI MAT IO CE OR LOI IO CE IMAI BS IME WNESIBOL UMEIMER IBSLOCHER BL IME TBLY IO SNFFER IME SHBLDS ALY ARROUS OF ONIRADEONS FORINLE OR IO IAVE ARTS ADABLSI A SEA OF IRONCHES ALY CK OPPOSBLD ELY\n",
            ".........................................................../............./..........................\n",
            "r =  18100: Pl = -519.83\n",
            "ELIER MATHEI MAT IO CE OR LOI IO CE IMAI BS IME WNESIBOL UMEIMER IBSLOCHER BL IME TBLY IO SNFFER IME SHBLDS ALY ARROUS OF ONIRADEONS FORINLE OR IO IAVE ARTS ADABLSI A SEA OF IRONCHES ALY CK OPPOSBLD ELY\n",
            "........................./.........../........................../................./.................\n",
            "r =  18200: Pl = -519.83\n",
            "ELIER MATHEI MAT IO CE OR LOI IO CE IMAI BS IME WNESIBOL UMEIMER IBSLOCHER BL IME TBLY IO SNFFER IME SHBLDS ALY ARROUS OF ONIRADEONS FORINLE OR IO IAVE ARTS ADABLSI A SEA OF IRONCHES ALY CK OPPOSBLD ELY\n",
            ".........................../..................................../.../...............................\n",
            "r =  18300: Pl = -519.83\n",
            "ELIER MATHEI MAT IO CE OR LOI IO CE IMAI BS IME WNESIBOL UMEIMER IBSLOCHER BL IME TBLY IO SNFFER IME SHBLDS ALY ARROUS OF ONIRADEONS FORINLE OR IO IAVE ARTS ADABLSI A SEA OF IRONCHES ALY CK OPPOSBLD ELY\n",
            ".............................................................../....................................\n",
            "r =  18400: Pl = -519.83\n",
            "ELIER MATHEI MAT IO CE OR LOI IO CE IMAI BS IME WNESIBOL UMEIMER IBSLOCHER BL IME TBLY IO SNFFER IME SHBLDS ALY ARROUS OF ONIRADEONS FORINLE OR IO IAVE ARTS ADABLSI A SEA OF IRONCHES ALY CK OPPOSBLD ELY\n",
            "............................................................................./................/.....\n",
            "r =  18500: Pl = -519.83\n",
            "ELIER MATHEI MAT IO CE OR LOI IO CE IMAI BS IME WNESIBOL UMEIMER IBSLOCHER BL IME TBLY IO SNFFER IME SHBLDS ALY ARROUS OF ONIRADEONS FORINLE OR IO IAVE ARTS ADABLSI A SEA OF IRONCHES ALY CK OPPOSBLD ELY\n",
            "............../................................/................................/...................\n",
            "r =  18600: Pl = -519.83\n",
            "ELIER MATHEI MAT IO CE OR LOI IO CE IMAI BS IME WNESIBOL UMEIMER IBSLOCHER BL IME TBLY IO SNFFER IME SHBLDS ALY ARROUS OF ONIRADEONS FORINLE OR IO IAVE ARTS ADABLSI A SEA OF IRONCHES ALY CK OPPOSBLD ELY\n",
            "....................................../.............................................................\n",
            "r =  18700: Pl = -519.83\n",
            "ELIER MATHEI MAT IO CE OR LOI IO CE IMAI BS IME WNESIBOL UMEIMER IBSLOCHER BL IME TBLY IO SNFFER IME SHBLDS ALY ARROUS OF ONIRADEONS FORINLE OR IO IAVE ARTS ADABLSI A SEA OF IRONCHES ALY CK OPPOSBLD ELY\n",
            "............................................................../............................./.......\n",
            "r =  18800: Pl = -519.83\n",
            "ELIER MATHEI MAT IO CE OR LOI IO CE IMAI BS IME WNESIBOL UMEIMER IBSLOCHER BL IME TBLY IO SNFFER IME SHBLDS ALY ARROUS OF ONIRADEONS FORINLE OR IO IAVE ARTS ADABLSI A SEA OF IRONCHES ALY CK OPPOSBLD ELY\n",
            "......................../.../............../............./.................../......................\n",
            "r =  18900: Pl = -519.83\n",
            "ELIER MATHEI MAT IO CE OR LOI IO CE IMAI BS IME WNESIBOL UMEIMER IBSLOCHER BL IME TBLY IO SNFFER IME SHBLDS ALY ARROUS OF ONIRADEONS FORINLE OR IO IAVE ARTS ADABLSI A SEA OF IRONCHES ALY CK OPPOSBLD ELY\n",
            ".../......//......................................./......././......................................\n",
            "r =  19000: Pl = -511.97\n",
            "ELTER MAGHET MAG TO CE OR LOT TO CE TMAT IS TME WNESTIOL UMETMER TISLOCHER IL TME GILY TO SNFFER TME SHILDS ALY ARROUS OF ONTRADEONS FORTNLE OR TO TAVE ARGS ADAILST A SEA OF TRONCHES ALY CK OPPOSILD ELY\n",
            "......../......................./........................../........................................\n",
            "r =  19100: Pl = -511.97\n",
            "ELTER MAGHET MAG TO CE OR LOT TO CE TMAT IS TME WNESTIOL UMETMER TISLOCHER IL TME GILY TO SNFFER TME SHILDS ALY ARROUS OF ONTRADEONS FORTNLE OR TO TAVE ARGS ADAILST A SEA OF TRONCHES ALY CK OPPOSILD ELY\n",
            ".........................................../........././........................../......../........\n",
            "r =  19200: Pl = -511.97\n",
            "ELTER MAGHET MAG TO CE OR LOT TO CE TMAT IS TME WNESTIOL UMETMER TISLOCHER IL TME GILY TO SNFFER TME SHILDS ALY ARROUS OF ONTRADEONS FORTNLE OR TO TAVE ARGS ADAILST A SEA OF TRONCHES ALY CK OPPOSILD ELY\n",
            "............./........................../................../..................../...................\n",
            "r =  19300: Pl = -511.97\n",
            "ELTER MAGHET MAG TO CE OR LOT TO CE TMAT IS TME WNESTIOL UMETMER TISLOCHER IL TME GILY TO SNFFER TME SHILDS ALY ARROUS OF ONTRADEONS FORTNLE OR TO TAVE ARGS ADAILST A SEA OF TRONCHES ALY CK OPPOSILD ELY\n",
            "................../......................................./........................./............./.\n",
            "r =  19400: Pl = -510.36\n",
            "ENTER MAGHET MAG TO WE OR NOT TO WE TMAT IS TME CLESTION UMETMER TISNOWHER IN TME GINY TO SLFFER TME SHINDS ANY ARROUS OF OLTRADEOLS FORTLNE OR TO TAVE ARGS ADAINST A SEA OF TROLWHES ANY WK OPPOSIND ENY\n",
            "......................................................../...........................................\n",
            "r =  19500: Pl = -505.13\n",
            "ENTER MAYHET MAY TO WE OR NOT TO WE TMAT IS TME CLESTION UMETMER TISNOWHER IN TME YING TO SLFFER TME SHINDS ANG ARROUS OF OLTRADEOLS FORTLNE OR TO TAVE ARYS ADAINST A SEA OF TROLWHES ANG WK OPPOSIND ENG\n",
            ".........................../........................................../....../............../.......\n",
            "r =  19600: Pl = -505.13\n",
            "ENTER MAYHET MAY TO WE OR NOT TO WE TMAT IS TME CLESTION UMETMER TISNOWHER IN TME YING TO SLFFER TME SHINDS ANG ARROUS OF OLTRADEOLS FORTLNE OR TO TAVE ARYS ADAINST A SEA OF TROLWHES ANG WK OPPOSIND ENG\n",
            "........................./...................................................../................./..\n",
            "r =  19700: Pl = -505.13\n",
            "ENTER MAYHET MAY TO WE OR NOT TO WE TMAT IS TME CLESTION UMETMER TISNOWHER IN TME YING TO SLFFER TME SHINDS ANG ARROUS OF OLTRADEOLS FORTLNE OR TO TAVE ARYS ADAINST A SEA OF TROLWHES ANG WK OPPOSIND ENG\n",
            "......../../................................................./.........................../..........\n",
            "r =  19800: Pl = -507.55\n",
            "ENTER MAKHET MAK TO WE OR NOT TO WE TMAT IS TME PLESTION UMETMER TISNOWHER IN TME KIND TO SLFFER TME SHINGS AND ARROUS OF OLTRAGEOLS FORTLNE OR TO TAVE ARKS AGAINST A SEA OF TROLWHES AND WY OCCOSING END\n",
            "..././..................../...................../../../............/.............../................\n",
            "r =  19900: Pl = -506.42\n",
            "ENTER CAKHET CAK TO WE OR NOT TO WE TCAT IS TCE PLESTION UCETCER TISNOWHER IN TCE KIND TO SLFFER TCE SHINGS AND ARROUS OF OLTRAGEOLS FORTLNE OR TO TAVE ARKS AGAINST A SEA OF TROLWHES AND WY OMMOSING END\n",
            "............................/................../....../........................./.................."
          ],
          "name": "stdout"
        }
      ]
    },
    {
      "cell_type": "markdown",
      "metadata": {
        "id": "7e4ENEz57CDL"
      },
      "source": [
        "Note that the decoding of the \"blank space\" symbol happens early on and leads to a big improvement in plausibility.  It's probably not the best approach to treat it like any other symbol.  Alternatives:\n",
        "\n",
        "* Assume the spaces are not affected by the coding and that the coded message shows the correct position of the spaces in the clear text message, or:\n",
        "* Eliminate all spaces to start with, and do the same in the construction of the $M$ matrix"
      ]
    },
    {
      "cell_type": "markdown",
      "metadata": {
        "id": "5nZKRhaaBxnv"
      },
      "source": [
        "Surprisingly:"
      ]
    },
    {
      "cell_type": "code",
      "metadata": {
        "colab": {
          "base_uri": "https://localhost:8080/"
        },
        "id": "Mm6fy27SAcwD",
        "outputId": "50c00d98-4925-4c2b-d3c9-8c72e6226603"
      },
      "source": [
        "print(plausibility(the_inv_key, the_encoded_num))\n",
        "print(my_numbers_to_string(encode(the_inv_key, the_encoded_num)))"
      ],
      "execution_count": null,
      "outputs": [
        {
          "output_type": "stream",
          "text": [
            "-463.0708182789339\n",
            "ENTER HAMLET HAM TO BE OR NOT TO BE THAT IS THE QUESTION WHETHER TISNOBLER IN THE MIND TO SUFFER THE SLINGS AND ARROWS OF OUTRAGEOUS FORTUNE OR TO TAKE ARMS AGAINST A SEA OF TROUBLES AND BY OPPOSING END\n"
          ],
          "name": "stdout"
        }
      ]
    },
    {
      "cell_type": "code",
      "metadata": {
        "id": "yeBDHatXBvjD",
        "colab": {
          "base_uri": "https://localhost:8080/"
        },
        "outputId": "4322404b-ccda-4dae-ed7f-8c0d3f31d0b2"
      },
      "source": [
        "print(best_pl)\n",
        "print(best_key)\n",
        "print(my_numbers_to_string(encode(best_key, the_encoded_num)))"
      ],
      "execution_count": null,
      "outputs": [
        {
          "output_type": "stream",
          "text": [
            "-504.1872488471363\n",
            "[23, 11, 18, 3, 0, 19, 12, 21, 20, 26, 4, 16, 6, 25, 5, 15, 24, 13, 10, 1, 9, 2, 17, 22, 8, 14, 7]\n",
            "ENTER MAYHET MAY TO WE OR NOT TO WE TMAT IS TME BLESTION UMETMER TISNOWHER IN TME YING TO SLFFER TME SHINDS ANG ARROUS OF OLTRADEOLS FORTLNE OR TO TAVE ARYS ADAINST A SEA OF TROLWHES ANG WK OPPOSIND ENG\n"
          ],
          "name": "stdout"
        }
      ]
    },
    {
      "cell_type": "markdown",
      "metadata": {
        "id": "VtXZEpKgnfdK"
      },
      "source": [
        "### Run the chain several times, compare performance"
      ]
    },
    {
      "cell_type": "code",
      "metadata": {
        "id": "xSC27hWowb0Q",
        "colab": {
          "base_uri": "https://localhost:8080/"
        },
        "outputId": "563af9c9-f79a-4f5e-c5f2-5161bf20b3c6"
      },
      "source": [
        "n_experiments = 10\n",
        "n_runs = 20000\n",
        "n_record = 100        # record the results every n_record steps\n",
        "\n",
        "pl_list = np.zeros((n_experiments, n_runs//n_record))\n",
        "trivial_key = list(range(27))\n",
        "old_pl = plausibility(trivial_key, the_encoded_num)\n",
        "best_key = trivial_key\n",
        "best_pl = old_pl\n",
        "\n",
        "for e in range(n_experiments):\n",
        "  # start with a trivial key: no decoding at all\n",
        "  trial_key = trivial_key\n",
        "  old_pl = plausibility(trial_key, the_encoded_num)\n",
        "  pl_list[e][0] = old_pl\n",
        "\n",
        "  for r in range(n_runs):\n",
        "    # generate a random transposition of two symbol assignments\n",
        "    switch = rng.choice(27, 2, replace=False)\n",
        "    new_key = trial_key.copy()\n",
        "    new_key[switch[0]] = trial_key[switch[1]]\n",
        "    new_key[switch[1]] = trial_key[switch[0]]\n",
        "\n",
        "    new_pl = plausibility(new_key, the_encoded_num)\n",
        "    # print(\"old p: {:.2f}   new p: {:.2f}\".format(old_p, new_p))\n",
        "    switch_keys = False\n",
        "    if new_pl > old_pl:\n",
        "      switch_keys = True\n",
        "    else:\n",
        "      alpha = np.exp(new_pl - old_pl)\n",
        "      if rng.random() < alpha:\n",
        "        switch_keys = True\n",
        "\n",
        "    if switch_keys:\n",
        "      trial_key = new_key.copy()\n",
        "      if new_pl > best_pl:\n",
        "        best_pl = new_pl\n",
        "        best_key = new_key.copy()\n",
        "      old_pl = new_pl\n",
        "      # print('/', end='')\n",
        "    else:\n",
        "      # print('.', end='')\n",
        "      pass\n",
        "\n",
        "    # every n_record steps: report the current state of affairs\n",
        "    if r % n_record == 0:\n",
        "      # print(\"\")\n",
        "      # print(\"r = {:>6}: Pl = {:5.2f}\".format(r, old_pl))\n",
        "      # print(my_numbers_to_string(encode(trial_key, the_encoded_num)))\n",
        "      pl_list[e][r // n_record] = old_pl\n",
        "\n",
        "  print(\"e = {:>6}: Pl = {:5.2f}\".format(e, old_pl))\n",
        "  print(my_numbers_to_string(encode(trial_key, the_encoded_num)))"
      ],
      "execution_count": null,
      "outputs": [
        {
          "output_type": "stream",
          "text": [
            "e =      0: Pl = -587.46\n",
            "IORITEANCHIREANCER ESIE TEO RER ESIERANREYLERAIEXPILRY OEWAIRAITERYLO SHITEYOERAIECYOMER ELPDDITERAIELHYOULENOMENTT WLE DE PRTNUI PLED TRPOIE TER ERNVIENTCLENUNYOLRENELINE DERT PSHILENOMESKE GG LYOUEIOM\n",
            "e =      1: Pl = -599.75\n",
            " IO PRFALY ORFALROURT RUPRIUOROURT ROFAORSEROF RWN EOSUIRKF OF PROSEIUTY PRSIROF RLSICROURENGG PROF REYSIMERAICRAPPUKERUGRUNOPAM UNERGUPONI RUPROUROAD RAPLERAMASIEORARE ARUGROPUNTY ERAICRTHRUBBUESIMR IC\n",
            "e =      2: Pl = -496.56\n",
            "EITER HALKET HAL TO CE OR IOT TO CE THAT WS THE QUESTWOI GHETHER TWSIOCKER WI THE LWID TO SUPPER THE SKWINS AID ARROGS OP OUTRANEOUS PORTUIE OR TO TAVE ARLS ANAWIST A SEA OP TROUCKES AID CY OFFOSWIN EID\n",
            "e =      3: Pl = -556.91\n",
            "EHIES NTUPEI NTU IA ME AS HAI IA ME INTI CR INE DGERICAH WNEINES ICRHAMPES CH INE UCHY IA RGLLES INE RPCHOR THY TSSAWR AL AGISTOEAGR LASIGHE AS IA ITBE TSUR TOTCHRI T RET AL ISAGMPER THY MF AZZARCHO EHY\n",
            "e =      4: Pl = -597.89\n",
            "RO RIEANCFR EANCE SEDRESIEOS E SEDRE AN ETLE AREXURL TSOEWAR ARIE TLOSDFRIETOE ARECTOME SELUPPRIE ARELFTOGLENOMENIISWLESPESU INGRSULEPSI UORESIE SE NKRENICLENGNTOL ENELRNESPE ISUDFRLENOMEDVESBBSLTOGEROM\n",
            "e =      5: Pl = -602.35\n",
            "NIDNGEARYONDEARYED ESNE GEI DED ESNEDARDEFLEDANEJUNLDF IEBANDANGEDFLI SONGEFIEDANEYFICED ELUMMNGEDANELOFITLERICERGG BLE ME UDGRTN ULEM GDUINE GED EDRKNERGYLERTRFILDERELNRE MEDG USONLERICESHE PP LFITENIC\n",
            "e =      6: Pl = -521.79\n",
            "ELIEN MATHEI MAT IO CE ON LOI IO CE IMAI BS IME GUESIBOL RMEIMEN IBSLOCHEN BL IME TBLY IO SUFFEN IME SHBLDS ALY ANNORS OF OUINADEOUS FONIULE ON IO IAVE ANTS ADABLSI A SEA OF INOUCHES ALY CK OPPOSBLD ELY\n",
            "e =      7: Pl = -575.25\n",
            "ITRIDOKNGSIROKNGOR OMIO DOT ROR OMIORKNROULORKIOXAILRU TOCKIRKIDORULT MSIDOUTORKIOGUTHOR OLAFFIDORKIOLSUTELONTHONDD CLO FO ARDNEI ALOF DRATIO DOR ORNVIONDGLONENUTLRONOLINO FORD AMSILONTHOMYO PP LUTEOITH\n",
            "e =      8: Pl = -463.09\n",
            "ENTER HALKET HAL TO CE OR NOT TO CE THAT IS THE JUESTION WHETHER TISNOCKER IN THE LIND TO SUMMER THE SKINGS AND ARROWS OM OUTRAGEOUS MORTUNE OR TO TAPE ARLS AGAINST A SEA OM TROUCKES AND CY OFFOSING END\n",
            "e =      9: Pl = -567.60\n",
            "NITNL ASPWNT ASP TO DN OL IOT TO DN TAST HE TAN BRNETHOI VANTANL THEIODWNL HI TAN PHIG TO ERMMNL TAN EWHIKE SIG SLLOVE OM ORTLSKNORE MOLTRIN OL TO TSUN SLPE SKSHIET S ENS OM TLORDWNE SIG DY OFFOEHIK NIG\n"
          ],
          "name": "stdout"
        }
      ]
    },
    {
      "cell_type": "code",
      "metadata": {
        "id": "NiZSvnT-q2zR",
        "colab": {
          "base_uri": "https://localhost:8080/"
        },
        "outputId": "9f3bca2a-c8ec-49ad-dcc1-5cb18babdc62"
      },
      "source": [
        "print(plausibility(the_inv_key, the_encoded_num))\n",
        "print(my_numbers_to_string(encode(the_inv_key, the_encoded_num)))"
      ],
      "execution_count": null,
      "outputs": [
        {
          "output_type": "stream",
          "text": [
            "-463.0708182789339\n",
            "ENTER HAMLET HAM TO BE OR NOT TO BE THAT IS THE QUESTION WHETHER TISNOBLER IN THE MIND TO SUFFER THE SLINGS AND ARROWS OF OUTRAGEOUS FORTUNE OR TO TAKE ARMS AGAINST A SEA OF TROUBLES AND BY OPPOSING END\n"
          ],
          "name": "stdout"
        }
      ]
    },
    {
      "cell_type": "code",
      "metadata": {
        "id": "_h2UmrhhrDXy",
        "colab": {
          "base_uri": "https://localhost:8080/"
        },
        "outputId": "f436c091-fe44-4a6d-da8e-23e170991278"
      },
      "source": [
        "print(plausibility(best_key, the_encoded_num))\n",
        "print(my_numbers_to_string(encode(best_key, the_encoded_num)))\n",
        "print(best_key)"
      ],
      "execution_count": null,
      "outputs": [
        {
          "output_type": "stream",
          "text": [
            "-459.3542112145556\n",
            "ENTER HALKET HAL TO CE OR NOT TO CE THAT IS THE BUESTION WHETHER TISNOCKER IN THE LIND TO SUMMER THE SKINGS AND ARROWS OM OUTRAGEOUS MORTUNE OR TO TAVE ARLS AGAINST A SEA OM TROUCKES AND CY OFFOSING END\n",
            "[3, 25, 18, 10, 0, 19, 21, 23, 20, 16, 7, 6, 13, 12, 5, 15, 24, 8, 17, 1, 9, 2, 26, 22, 11, 14, 4]\n"
          ],
          "name": "stdout"
        }
      ]
    },
    {
      "cell_type": "code",
      "metadata": {
        "id": "1lIpYaybqrVW",
        "colab": {
          "base_uri": "https://localhost:8080/",
          "height": 265
        },
        "outputId": "8d1b3c6e-7ebc-4c51-a888-e1172cd06143"
      },
      "source": [
        "for e in range(n_experiments):\n",
        "  plt.plot(pl_list[e])\n",
        "plt.savefig('plot.pdf', dpi=300, bbox_inches='tight')"
      ],
      "execution_count": null,
      "outputs": [
        {
          "output_type": "display_data",
          "data": {
            "image/png": "[encoded data removed]",
            "text/plain": [
              "<Figure size 432x288 with 1 Axes>"
            ]
          },
          "metadata": {
            "tags": [],
            "needs_background": "light"
          }
        }
      ]
    },
    {
      "cell_type": "code",
      "metadata": {
        "id": "CzgdazJ4p9Ki",
        "colab": {
          "base_uri": "https://localhost:8080/",
          "height": 295
        },
        "outputId": "27b484ce-1c3f-4e4f-eb44-70c20117253e"
      },
      "source": [
        "for e in range(n_experiments):\n",
        "  plt.plot(pl_list[e])\n",
        "plt.ylim((-700,-400))\n",
        "x_coordinates = [0, 200]\n",
        "y_coordinates = [plausibility(the_inv_key, the_encoded_num), plausibility(the_inv_key, the_encoded_num)]\n",
        "plt.plot(x_coordinates, y_coordinates,'--', color = 'black', label ='Pla(Kc)')\n",
        "plt.legend(loc='best')\n",
        "plt.title('String length = {} with arbitrary k1'.format(len(clear_text)+1))\n",
        "plt.xlabel('n Iterations (n=100x)')\n",
        "plt.ylabel('Plausibility Function')\n",
        "plt.savefig('plot.pdf', dpi=300, bbox_inches='tight')"
      ],
      "execution_count": null,
      "outputs": [
        {
          "output_type": "display_data",
          "data": {
            "image/png": "[encoded data removed]",
            "text/plain": [
              "<Figure size 432x288 with 1 Axes>"
            ]
          },
          "metadata": {
            "tags": [],
            "needs_background": "light"
          }
        }
      ]
    },
    {
      "cell_type": "markdown",
      "metadata": {
        "id": "U3U8ltFjKkos"
      },
      "source": [
        "#### Use relative frequency of letters to construct starting key"
      ]
    },
    {
      "cell_type": "code",
      "metadata": {
        "colab": {
          "base_uri": "https://localhost:8080/"
        },
        "id": "GThbQ7iQJcS_",
        "outputId": "ba6ee973-53df-4460-b3a1-e0e749bf9566"
      },
      "source": [
        "row_sums = np.sum(count_transitions, axis=1)\n",
        "print(row_sums)"
      ],
      "execution_count": null,
      "outputs": [
        {
          "output_type": "stream",
          "text": [
            "[105859.  35125.   6363.  10500.  18520.  53082.   8975.   7888.  29048.\n",
            "  30138.    452.   3542.  17145.  11787.  28641.  33475.   6798.    427.\n",
            "  24502.  27159.  38980.  13074.   4446.  11266.    549.   9431.    149.]\n"
          ],
          "name": "stdout"
        }
      ]
    },
    {
      "cell_type": "code",
      "metadata": {
        "colab": {
          "base_uri": "https://localhost:8080/"
        },
        "id": "p3_OHL4WLTCz",
        "outputId": "3ba24a69-a7be-4159-9990-f494e1c17fd0"
      },
      "source": [
        "most_frequent_english = row_sums.argsort()[::-1]\n",
        "print(most_frequent_english)\n",
        "print([my_number_to_char(n) for n in most_frequent_english])"
      ],
      "execution_count": null,
      "outputs": [
        {
          "output_type": "stream",
          "text": [
            "[ 0  5 20  1 15  9  8 14 19 18  4 12 21 13 23  3 25  6  7 16  2 22 11 24\n",
            " 10 17 26]\n",
            "[' ', 'E', 'T', 'A', 'O', 'I', 'H', 'N', 'S', 'R', 'D', 'L', 'U', 'M', 'W', 'C', 'Y', 'F', 'G', 'P', 'B', 'V', 'K', 'X', 'J', 'Q', 'Z']\n"
          ],
          "name": "stdout"
        }
      ]
    },
    {
      "cell_type": "code",
      "metadata": {
        "colab": {
          "base_uri": "https://localhost:8080/"
        },
        "id": "glPdnhqeKsoO",
        "outputId": "b7c19a42-46d1-4c6b-daec-a5e6c86983f5"
      },
      "source": [
        "print(the_encoded_num)"
      ],
      "execution_count": null,
      "outputs": [
        {
          "output_type": "stream",
          "text": [
            "[14, 25, 8, 14, 2, 4, 17, 19, 13, 24, 14, 8, 4, 17, 19, 13, 4, 8, 15, 4, 0, 14, 4, 15, 2, 4, 25, 15, 8, 4, 8, 15, 4, 0, 14, 4, 8, 17, 19, 8, 4, 20, 5, 4, 8, 17, 14, 4, 21, 6, 14, 5, 8, 20, 15, 25, 4, 7, 17, 14, 8, 17, 14, 2, 4, 8, 20, 5, 25, 15, 0, 24, 14, 2, 4, 20, 25, 4, 8, 17, 14, 4, 13, 20, 25, 26, 4, 8, 15, 4, 5, 6, 12, 12, 14, 2, 4, 8, 17, 14, 4, 5, 24, 20, 25, 10, 5, 4, 19, 25, 26, 4, 19, 2, 2, 15, 7, 5, 4, 15, 12, 4, 15, 6, 8, 2, 19, 10, 14, 15, 6, 5, 4, 12, 15, 2, 8, 6, 25, 14, 4, 15, 2, 4, 8, 15, 4, 8, 19, 23, 14, 4, 19, 2, 13, 5, 4, 19, 10, 19, 20, 25, 5, 8, 4, 19, 4, 5, 14, 19, 4, 15, 12, 4, 8, 2, 15, 6, 0, 24, 14, 5, 4, 19, 25, 26, 4, 0, 1, 4, 15, 11, 11, 15, 5, 20, 25, 10, 4, 14, 25, 26]\n"
          ],
          "name": "stdout"
        }
      ]
    },
    {
      "cell_type": "code",
      "metadata": {
        "colab": {
          "base_uri": "https://localhost:8080/"
        },
        "id": "w7IcW52MK4o0",
        "outputId": "36c6e104-6bff-4c31-f3e8-f43a89c73356"
      },
      "source": [
        "from collections import Counter\n",
        "c = Counter(the_encoded_num)\n",
        "print(c.most_common())\n",
        "most_frequent_encoded = [x[0] for x in c.most_common()]\n",
        "print(most_frequent_encoded)"
      ],
      "execution_count": null,
      "outputs": [
        {
          "output_type": "stream",
          "text": [
            "[(4, 39), (8, 20), (14, 19), (15, 18), (25, 13), (19, 13), (5, 13), (2, 12), (17, 8), (20, 8), (6, 6), (0, 5), (12, 5), (13, 4), (24, 4), (26, 4), (10, 4), (7, 2), (11, 2), (21, 1), (23, 1), (1, 1)]\n",
            "[4, 8, 14, 15, 25, 19, 5, 2, 17, 20, 6, 0, 12, 13, 24, 26, 10, 7, 11, 21, 23, 1]\n"
          ],
          "name": "stdout"
        }
      ]
    },
    {
      "cell_type": "markdown",
      "metadata": {
        "id": "_Hgu5aRuNjDz"
      },
      "source": [
        "add the missing symbols"
      ]
    },
    {
      "cell_type": "code",
      "metadata": {
        "id": "n-zZG8SGMcGZ",
        "colab": {
          "base_uri": "https://localhost:8080/"
        },
        "outputId": "e9c5f471-2e7d-4bb9-885c-3052440616b5"
      },
      "source": [
        "set(range(27)).difference(set(most_frequent_encoded))"
      ],
      "execution_count": null,
      "outputs": [
        {
          "output_type": "execute_result",
          "data": {
            "text/plain": [
              "{3, 9, 16, 18, 22}"
            ]
          },
          "metadata": {
            "tags": []
          },
          "execution_count": 90
        }
      ]
    },
    {
      "cell_type": "code",
      "metadata": {
        "colab": {
          "base_uri": "https://localhost:8080/"
        },
        "id": "VxDLgUhGNdWr",
        "outputId": "e5c7aea2-1f0d-4952-8ad0-623624a63f9f"
      },
      "source": [
        "most_frequent_encoded = most_frequent_encoded + list(set(range(27)).difference(set(most_frequent_encoded)))\n",
        "print(most_frequent_encoded)"
      ],
      "execution_count": null,
      "outputs": [
        {
          "output_type": "stream",
          "text": [
            "[4, 8, 14, 15, 25, 19, 5, 2, 17, 20, 6, 0, 12, 13, 24, 26, 10, 7, 11, 21, 23, 1, 3, 9, 16, 18, 22]\n"
          ],
          "name": "stdout"
        }
      ]
    },
    {
      "cell_type": "markdown",
      "metadata": {
        "id": "rOOqQzO2OT6_"
      },
      "source": [
        "Construct a key that maps the most frequent symbol in the encoded message to the most frequent symbol in English text, etc.\n",
        "\n",
        "For instance:\n",
        "*  \"4\" should get mapped to \"0\" (the spaces)\n",
        "*  \"8\" should get mapped to \"5\" (letter E)"
      ]
    },
    {
      "cell_type": "code",
      "metadata": {
        "id": "MxQvJ9eBN2sI"
      },
      "source": [
        "match_most_frequent = np.empty_like(most_frequent_encoded)\n",
        "match_most_frequent[most_frequent_encoded] = most_frequent_english"
      ],
      "execution_count": null,
      "outputs": []
    },
    {
      "cell_type": "code",
      "metadata": {
        "colab": {
          "base_uri": "https://localhost:8080/"
        },
        "id": "v069uikmOm4j",
        "outputId": "5df59991-8971-4d37-a40e-86c68f59a027"
      },
      "source": [
        "print(match_most_frequent)"
      ],
      "execution_count": null,
      "outputs": [
        {
          "output_type": "stream",
          "text": [
            "[12 22 14 11  0  8  4  6  5 24 25  7 21 13 20  1 10 19 17  9 18 16 26  2\n",
            " 23 15  3]\n"
          ],
          "name": "stdout"
        }
      ]
    },
    {
      "cell_type": "code",
      "metadata": {
        "colab": {
          "base_uri": "https://localhost:8080/"
        },
        "id": "9vOTkR_aOoya",
        "outputId": "719f0da1-1277-4a17-b09b-0442fcb7b789"
      },
      "source": [
        "print(my_numbers_to_string(encode(match_most_frequent, the_encoded_num)))\n",
        "print(plausibility(match_most_frequent, the_encoded_num))"
      ],
      "execution_count": null,
      "outputs": [
        {
          "output_type": "stream",
          "text": [
            "TOETN SIMWTE SIM EA LT AN OAE EA LT ESIE RH EST PDTHERAO FSTESTN ERHOALWTN RO EST MROC EA HDUUTN EST HWROYH IOC INNAFH AU ADENIYTADH UANEDOT AN EA EIBT INMH IYIROHE I HTI AU ENADLWTH IOC LV AGGAHROY TOC\n",
            "-845.6883709502331\n"
          ],
          "name": "stdout"
        }
      ]
    },
    {
      "cell_type": "markdown",
      "metadata": {
        "id": "f1C-WcJYPKfB"
      },
      "source": [
        "Same code as above, now with the frequency key as starting guess"
      ]
    },
    {
      "cell_type": "code",
      "metadata": {
        "id": "MMDlDfl4PAkh",
        "colab": {
          "base_uri": "https://localhost:8080/"
        },
        "outputId": "24a19718-063e-4dd8-aa12-c64be7c56654"
      },
      "source": [
        "n_experiments = 10\n",
        "n_runs = 20000\n",
        "n_record = 100        # record the results every n_record steps\n",
        "\n",
        "pl_list = np.zeros((n_experiments, n_runs//n_record))\n",
        "old_pl = plausibility(match_most_frequent, the_encoded_num)\n",
        "best_key = trial_key\n",
        "best_pl = old_pl\n",
        "\n",
        "for e in range(n_experiments):\n",
        "  # start with a trivial key: no decoding at all\n",
        "  trial_key = match_most_frequent\n",
        "  old_pl = plausibility(trial_key, the_encoded_num)\n",
        "  pl_list[e][0] = old_pl\n",
        "\n",
        "  for r in range(n_runs):\n",
        "    # generate a random transposition of two symbol assignments\n",
        "    switch = rng.choice(27, 2, replace=False)\n",
        "    new_key = trial_key.copy()\n",
        "    new_key[switch[0]] = trial_key[switch[1]]\n",
        "    new_key[switch[1]] = trial_key[switch[0]]\n",
        "\n",
        "    new_pl = plausibility(new_key, the_encoded_num)\n",
        "    # print(\"old p: {:.2f}   new p: {:.2f}\".format(old_p, new_p))\n",
        "    switch_keys = False\n",
        "    if new_pl > old_pl:\n",
        "      switch_keys = True\n",
        "    else:\n",
        "      alpha = np.exp(new_pl - old_pl)\n",
        "      if rng.random() < alpha:\n",
        "        switch_keys = True\n",
        "\n",
        "    if switch_keys:\n",
        "      trial_key = new_key.copy()\n",
        "      if new_pl > best_pl:\n",
        "        best_pl = new_pl\n",
        "        best_key = new_key.copy()\n",
        "      old_pl = new_pl\n",
        "      # print('/', end='')\n",
        "    else:\n",
        "      # print('.', end='')\n",
        "      pass\n",
        "\n",
        "    # every n_record steps: report the current state of affairs\n",
        "    if r % n_record == 0:\n",
        "      # print(\"\")\n",
        "      # print(\"r = {:>6}: Pl = {:5.2f}\".format(r, old_pl))\n",
        "      # print(my_numbers_to_string(encode(trial_key, the_encoded_num)))\n",
        "      pl_list[e][r // n_record] = old_pl\n",
        "\n",
        "  print(\"e = {:>6}: Pl = {:5.2f}\".format(e, old_pl))\n",
        "  print(my_numbers_to_string(encode(trial_key, the_encoded_num)))"
      ],
      "execution_count": null,
      "outputs": [
        {
          "output_type": "stream",
          "text": [
            "e =      0: Pl = -560.69\n",
            "UDTUS ONKBUT ONK TI MU IS DIT TI MU TONT ER TOU HAURTEID COUTOUS TERDIMBUS ED TOU KEDY TI RALLUS TOU RBEDGR NDY NSSICR IL IATSNGUIAR LISTADU IS TI TNJU NSKR NGNEDRT N RUN IL TSIAMBUR NDY MP IFFIREDG UDY\n",
            "e =      1: Pl = -495.68\n",
            "ENMER PATHEM PAT MO CE OR NOM MO CE MPAM IS MPE BUESMION YPEMPER MISNOCHER IN MPE TING MO SUFFER MPE SHINDS ANG ARROYS OF OUMRADEOUS FORMUNE OR MO MAVE ARTS ADAINSM A SEA OF MROUCHES ANG CK OLLOSIND ENG\n",
            "e =      2: Pl = -530.61\n",
            "ERMES PIGHEM PIG MA WE AS RAM MA WE MPIM OT MPE BLETMOAR UPEMPES MOTRAWHES OR MPE GORY MA TLDDES MPE THORNT IRY ISSAUT AD ALMSINEALT DASMLRE AS MA MIVE ISGT INIORTM I TEI AD MSALWHET IRY WK ACCATORN ERY\n",
            "e =      3: Pl = -464.61\n",
            "ENTER HAKLET HAK TO BE OR NOT TO BE THAT IS THE CUESTION WHETHER TISNOBLER IN THE KING TO SUFFER THE SLINDS ANG ARROWS OF OUTRADEOUS FORTUNE OR TO TAPE ARKS ADAINST A SEA OF TROUBLES ANG BY OMMOSIND ENG\n",
            "e =      4: Pl = -462.45\n",
            "ENTER HAYLET HAY TO CE OR NOT TO CE THAT IS THE JUESTION WHETHER TISNOCLER IN THE YING TO SUFFER THE SLINDS ANG ARROWS OF OUTRADEOUS FORTUNE OR TO TAVE ARYS ADAINST A SEA OF TROUCLES ANG CK OPPOSIND ENG\n",
            "e =      5: Pl = -461.29\n",
            "ENTER HALPET HAL TO ME OR NOT TO ME THAT IS THE QUESTION WHETHER TISNOMPER IN THE LING TO SUFFER THE SPINDS ANG ARROWS OF OUTRADEOUS FORTUNE OR TO TAVE ARLS ADAINST A SEA OF TROUMPES ANG MY OBBOSIND ENG\n",
            "e =      6: Pl = -524.98\n",
            "ETIED MARKEI MAR IO CE OD TOI IO CE IMAI NS IME QUESINOT LMEIMED INSTOCKED NT IME RNTH IO SUFFED IME SKNTWS ATH ADDOLS OF OUIDAWEOUS FODIUTE OD IO IAVE ADRS AWANTSI A SEA OF IDOUCKES ATH CY OPPOSNTW ETH\n",
            "e =      7: Pl = -591.03\n",
            "TOSTHEALMUTSEALMES ECTE HEO SES ECTESALSEPRESATEXITRSP OEDATSATHESPRO CUTHEPOESATEMPOWES ERINNTHESATERUPOFRELOWELHH DRE NE ISHLFT IREN HSIOTE HES ESLYTELHMRELFLPORSELERTLE NESH ICUTRELOWECKE GG RPOFETOW\n",
            "e =      8: Pl = -460.23\n",
            "ENTER HAPLET HAP TO BE OR NOT TO BE THAT IS THE QUESTION WHETHER TISNOBLER IN THE PING TO SUMMER THE SLINDS ANG ARROWS OM OUTRADEOUS MORTUNE OR TO TAVE ARPS ADAINST A SEA OM TROUBLES ANG BY OFFOSIND ENG\n",
            "e =      9: Pl = -519.83\n",
            "ELIER MATHEI MAT IO CE OR LOI IO CE IMAI BS IME WNESIBOL UMEIMER IBSLOCHER BL IME TBLY IO SNFFER IME SHBLDS ALY ARROUS OF ONIRADEONS FORINLE OR IO IAVE ARTS ADABLSI A SEA OF IRONCHES ALY CK OPPOSBLD ELY\n"
          ],
          "name": "stdout"
        }
      ]
    },
    {
      "cell_type": "code",
      "metadata": {
        "id": "dvar84baPaIW",
        "colab": {
          "base_uri": "https://localhost:8080/"
        },
        "outputId": "dbe4ddaf-a1cd-4f47-cf54-8c021b66e5d5"
      },
      "source": [
        "for e in range(n_experiments):\n",
        "  plt.plot(pl_list[e])\n",
        "plt.show()"
      ],
      "execution_count": null,
      "outputs": [
        {
          "output_type": "display_data",
          "data": {
            "image/png": "[encoded data removed]",
            "text/plain": [
              "<Figure size 432x288 with 1 Axes>"
            ]
          },
          "metadata": {
            "tags": [],
            "needs_background": "light"
          }
        }
      ]
    },
    {
      "cell_type": "code",
      "metadata": {
        "id": "c4Y2n5XgP3ci",
        "colab": {
          "base_uri": "https://localhost:8080/"
        },
        "outputId": "163be72a-d63e-4495-a01b-9658cb00fa3f"
      },
      "source": [
        "for e in range(n_experiments):\n",
        "  plt.plot(pl_list[e])\n",
        "plt.ylim((-700,-400))\n",
        "x_coordinates = [0, 200]\n",
        "y_coordinates = [plausibility(the_inv_key, the_encoded_num), plausibility(the_inv_key, the_encoded_num)]\n",
        "plt.plot(x_coordinates, y_coordinates,'--', color = 'black', label ='Pla(Kc)')\n",
        "#plt.plot(0,plausibility(match_most_frequent, the_encoded_num), \"or\", label = 'Pla(K1)' )\n",
        "plt.legend(loc='best')\n",
        "plt.title('String length = {} with best k1'.format(len(clear_text)+1))\n",
        "plt.xlabel('n Iterations (n=100x)')\n",
        "plt.ylabel('Plausibility Function')\n",
        "plt.savefig('plot.pdf', dpi=300, bbox_inches='tight')"
      ],
      "execution_count": null,
      "outputs": [
        {
          "output_type": "display_data",
          "data": {
            "image/png": "[encoded data removed]",
            "text/plain": [
              "<Figure size 432x288 with 1 Axes>"
            ]
          },
          "metadata": {
            "tags": [],
            "needs_background": "light"
          }
        }
      ]
    }
  ]
}